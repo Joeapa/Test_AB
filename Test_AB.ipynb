{
 "cells": [
  {
   "cell_type": "markdown",
   "metadata": {},
   "source": [
    "# TEST AB"
   ]
  },
  {
   "cell_type": "markdown",
   "metadata": {},
   "source": [
    "1. [WEB DATA](#1-web_data)\n",
    "2. [SM DATA](#2-sm-data)\n",
    "3. [LP DATA](#3-lp-data)"
   ]
  },
  {
   "cell_type": "code",
   "execution_count": 1,
   "metadata": {},
   "outputs": [],
   "source": [
    "# Importamos las librerías necesarias\n",
    "import pandas as pd; pd.set_option('display.max_columns', None) # Tratamiento de datos\n",
    "import matplotlib.pyplot as plt # Visualización\n",
    "import seaborn as sns\n",
    "from src import soporte_abtesting as sa\n",
    "import warnings; warnings.filterwarnings(\"ignore\") # Para ignorar los warnings.\n",
    "\n",
    "from scipy.stats import shapiro\n",
    "from scipy.stats import levene\n",
    "from scipy.stats import kruskal\n",
    "import scikit_posthocs as sp"
   ]
  },
  {
   "cell_type": "markdown",
   "metadata": {},
   "source": [
    "# 1. Web_data"
   ]
  },
  {
   "cell_type": "markdown",
   "metadata": {},
   "source": [
    "## 1.1 Lectura de datos"
   ]
  },
  {
   "cell_type": "code",
   "execution_count": 2,
   "metadata": {},
   "outputs": [
    {
     "data": {
      "text/html": [
       "<div>\n",
       "<style scoped>\n",
       "    .dataframe tbody tr th:only-of-type {\n",
       "        vertical-align: middle;\n",
       "    }\n",
       "\n",
       "    .dataframe tbody tr th {\n",
       "        vertical-align: top;\n",
       "    }\n",
       "\n",
       "    .dataframe thead th {\n",
       "        text-align: right;\n",
       "    }\n",
       "</style>\n",
       "<table border=\"1\" class=\"dataframe\">\n",
       "  <thead>\n",
       "    <tr style=\"text-align: right;\">\n",
       "      <th></th>\n",
       "      <th>page_version</th>\n",
       "      <th>session_duration</th>\n",
       "      <th>bounce_rate</th>\n",
       "      <th>conversion_rate</th>\n",
       "    </tr>\n",
       "  </thead>\n",
       "  <tbody>\n",
       "    <tr>\n",
       "      <th>39</th>\n",
       "      <td>A</td>\n",
       "      <td>293.096025</td>\n",
       "      <td>0.343039</td>\n",
       "      <td>0.068503</td>\n",
       "    </tr>\n",
       "    <tr>\n",
       "      <th>74</th>\n",
       "      <td>B</td>\n",
       "      <td>347.930067</td>\n",
       "      <td>0.327327</td>\n",
       "      <td>0.071257</td>\n",
       "    </tr>\n",
       "    <tr>\n",
       "      <th>98</th>\n",
       "      <td>B</td>\n",
       "      <td>413.356623</td>\n",
       "      <td>0.301840</td>\n",
       "      <td>0.065091</td>\n",
       "    </tr>\n",
       "    <tr>\n",
       "      <th>53</th>\n",
       "      <td>A</td>\n",
       "      <td>269.615960</td>\n",
       "      <td>0.349371</td>\n",
       "      <td>0.063041</td>\n",
       "    </tr>\n",
       "    <tr>\n",
       "      <th>3</th>\n",
       "      <td>A</td>\n",
       "      <td>291.352460</td>\n",
       "      <td>0.308925</td>\n",
       "      <td>0.083441</td>\n",
       "    </tr>\n",
       "  </tbody>\n",
       "</table>\n",
       "</div>"
      ],
      "text/plain": [
       "   page_version  session_duration  bounce_rate  conversion_rate\n",
       "39            A        293.096025     0.343039         0.068503\n",
       "74            B        347.930067     0.327327         0.071257\n",
       "98            B        413.356623     0.301840         0.065091\n",
       "53            A        269.615960     0.349371         0.063041\n",
       "3             A        291.352460     0.308925         0.083441"
      ]
     },
     "execution_count": 2,
     "metadata": {},
     "output_type": "execute_result"
    }
   ],
   "source": [
    "# Cargamos el conjunto de datos\n",
    "df_web = pd.read_csv('Datos/web_data.csv')\n",
    "df_web.sample(5)"
   ]
  },
  {
   "cell_type": "markdown",
   "metadata": {},
   "source": [
    "## 1.2 Breve exploración de los datos"
   ]
  },
  {
   "cell_type": "code",
   "execution_count": 3,
   "metadata": {},
   "outputs": [
    {
     "name": "stdout",
     "output_type": "stream",
     "text": [
      "<class 'pandas.core.frame.DataFrame'>\n",
      "RangeIndex: 110 entries, 0 to 109\n",
      "Data columns (total 4 columns):\n",
      " #   Column            Non-Null Count  Dtype  \n",
      "---  ------            --------------  -----  \n",
      " 0   page_version      110 non-null    object \n",
      " 1   session_duration  110 non-null    float64\n",
      " 2   bounce_rate       110 non-null    float64\n",
      " 3   conversion_rate   110 non-null    float64\n",
      "dtypes: float64(3), object(1)\n",
      "memory usage: 3.6+ KB\n"
     ]
    }
   ],
   "source": [
    "# Mostramos la información general del df_web\n",
    "df_web.info()"
   ]
  },
  {
   "cell_type": "code",
   "execution_count": 4,
   "metadata": {},
   "outputs": [
    {
     "data": {
      "text/html": [
       "<div>\n",
       "<style scoped>\n",
       "    .dataframe tbody tr th:only-of-type {\n",
       "        vertical-align: middle;\n",
       "    }\n",
       "\n",
       "    .dataframe tbody tr th {\n",
       "        vertical-align: top;\n",
       "    }\n",
       "\n",
       "    .dataframe thead th {\n",
       "        text-align: right;\n",
       "    }\n",
       "</style>\n",
       "<table border=\"1\" class=\"dataframe\">\n",
       "  <thead>\n",
       "    <tr style=\"text-align: right;\">\n",
       "      <th></th>\n",
       "      <th>count</th>\n",
       "      <th>mean</th>\n",
       "      <th>std</th>\n",
       "      <th>min</th>\n",
       "      <th>25%</th>\n",
       "      <th>50%</th>\n",
       "      <th>75%</th>\n",
       "      <th>max</th>\n",
       "    </tr>\n",
       "  </thead>\n",
       "  <tbody>\n",
       "    <tr>\n",
       "      <th>session_duration</th>\n",
       "      <td>110.0</td>\n",
       "      <td>311.718698</td>\n",
       "      <td>41.756119</td>\n",
       "      <td>216.745985</td>\n",
       "      <td>285.116278</td>\n",
       "      <td>309.512565</td>\n",
       "      <td>341.416845</td>\n",
       "      <td>413.356623</td>\n",
       "    </tr>\n",
       "    <tr>\n",
       "      <th>bounce_rate</th>\n",
       "      <td>110.0</td>\n",
       "      <td>0.285084</td>\n",
       "      <td>0.048116</td>\n",
       "      <td>0.200471</td>\n",
       "      <td>0.246359</td>\n",
       "      <td>0.289800</td>\n",
       "      <td>0.324121</td>\n",
       "      <td>0.397070</td>\n",
       "    </tr>\n",
       "    <tr>\n",
       "      <th>conversion_rate</th>\n",
       "      <td>110.0</td>\n",
       "      <td>0.077199</td>\n",
       "      <td>0.019128</td>\n",
       "      <td>0.044756</td>\n",
       "      <td>0.062496</td>\n",
       "      <td>0.072267</td>\n",
       "      <td>0.092395</td>\n",
       "      <td>0.119904</td>\n",
       "    </tr>\n",
       "  </tbody>\n",
       "</table>\n",
       "</div>"
      ],
      "text/plain": [
       "                  count        mean        std         min         25%  \\\n",
       "session_duration  110.0  311.718698  41.756119  216.745985  285.116278   \n",
       "bounce_rate       110.0    0.285084   0.048116    0.200471    0.246359   \n",
       "conversion_rate   110.0    0.077199   0.019128    0.044756    0.062496   \n",
       "\n",
       "                         50%         75%         max  \n",
       "session_duration  309.512565  341.416845  413.356623  \n",
       "bounce_rate         0.289800    0.324121    0.397070  \n",
       "conversion_rate     0.072267    0.092395    0.119904  "
      ]
     },
     "execution_count": 4,
     "metadata": {},
     "output_type": "execute_result"
    }
   ],
   "source": [
    "# Breve exploración \n",
    "df_web.describe().T"
   ]
  },
  {
   "cell_type": "code",
   "execution_count": 5,
   "metadata": {},
   "outputs": [
    {
     "name": "stdout",
     "output_type": "stream",
     "text": [
      "El número de datos es 110 y el de columnas es 4\n",
      "\n",
      " ..................... \n",
      "\n",
      "Los duplicados que tenemos en el conjunto de datos son: 0\n",
      "\n",
      " ..................... \n",
      "\n",
      "Los nulos que tenemos en el conjunto de datos son:\n"
     ]
    },
    {
     "data": {
      "text/html": [
       "<div>\n",
       "<style scoped>\n",
       "    .dataframe tbody tr th:only-of-type {\n",
       "        vertical-align: middle;\n",
       "    }\n",
       "\n",
       "    .dataframe tbody tr th {\n",
       "        vertical-align: top;\n",
       "    }\n",
       "\n",
       "    .dataframe thead th {\n",
       "        text-align: right;\n",
       "    }\n",
       "</style>\n",
       "<table border=\"1\" class=\"dataframe\">\n",
       "  <thead>\n",
       "    <tr style=\"text-align: right;\">\n",
       "      <th></th>\n",
       "      <th>%_nulos</th>\n",
       "    </tr>\n",
       "  </thead>\n",
       "  <tbody>\n",
       "  </tbody>\n",
       "</table>\n",
       "</div>"
      ],
      "text/plain": [
       "Empty DataFrame\n",
       "Columns: [%_nulos]\n",
       "Index: []"
      ]
     },
     "metadata": {},
     "output_type": "display_data"
    },
    {
     "name": "stdout",
     "output_type": "stream",
     "text": [
      "\n",
      " ..................... \n",
      "\n",
      "Los tipos de las columnas son:\n"
     ]
    },
    {
     "data": {
      "text/html": [
       "<div>\n",
       "<style scoped>\n",
       "    .dataframe tbody tr th:only-of-type {\n",
       "        vertical-align: middle;\n",
       "    }\n",
       "\n",
       "    .dataframe tbody tr th {\n",
       "        vertical-align: top;\n",
       "    }\n",
       "\n",
       "    .dataframe thead th {\n",
       "        text-align: right;\n",
       "    }\n",
       "</style>\n",
       "<table border=\"1\" class=\"dataframe\">\n",
       "  <thead>\n",
       "    <tr style=\"text-align: right;\">\n",
       "      <th></th>\n",
       "      <th>tipo_dato</th>\n",
       "    </tr>\n",
       "  </thead>\n",
       "  <tbody>\n",
       "    <tr>\n",
       "      <th>page_version</th>\n",
       "      <td>object</td>\n",
       "    </tr>\n",
       "    <tr>\n",
       "      <th>session_duration</th>\n",
       "      <td>float64</td>\n",
       "    </tr>\n",
       "    <tr>\n",
       "      <th>bounce_rate</th>\n",
       "      <td>float64</td>\n",
       "    </tr>\n",
       "    <tr>\n",
       "      <th>conversion_rate</th>\n",
       "      <td>float64</td>\n",
       "    </tr>\n",
       "  </tbody>\n",
       "</table>\n",
       "</div>"
      ],
      "text/plain": [
       "                 tipo_dato\n",
       "page_version        object\n",
       "session_duration   float64\n",
       "bounce_rate        float64\n",
       "conversion_rate    float64"
      ]
     },
     "metadata": {},
     "output_type": "display_data"
    },
    {
     "name": "stdout",
     "output_type": "stream",
     "text": [
      "\n",
      " ..................... \n",
      "\n",
      "Los valores que tenemos para las columnas categóricas son: \n",
      "La columna PAGE_VERSION tiene las siguientes valore únicos:\n"
     ]
    },
    {
     "data": {
      "text/html": [
       "<div>\n",
       "<style scoped>\n",
       "    .dataframe tbody tr th:only-of-type {\n",
       "        vertical-align: middle;\n",
       "    }\n",
       "\n",
       "    .dataframe tbody tr th {\n",
       "        vertical-align: top;\n",
       "    }\n",
       "\n",
       "    .dataframe thead th {\n",
       "        text-align: right;\n",
       "    }\n",
       "</style>\n",
       "<table border=\"1\" class=\"dataframe\">\n",
       "  <thead>\n",
       "    <tr style=\"text-align: right;\">\n",
       "      <th></th>\n",
       "      <th>count</th>\n",
       "    </tr>\n",
       "    <tr>\n",
       "      <th>page_version</th>\n",
       "      <th></th>\n",
       "    </tr>\n",
       "  </thead>\n",
       "  <tbody>\n",
       "    <tr>\n",
       "      <th>A</th>\n",
       "      <td>55</td>\n",
       "    </tr>\n",
       "    <tr>\n",
       "      <th>B</th>\n",
       "      <td>55</td>\n",
       "    </tr>\n",
       "  </tbody>\n",
       "</table>\n",
       "</div>"
      ],
      "text/plain": [
       "              count\n",
       "page_version       \n",
       "A                55\n",
       "B                55"
      ]
     },
     "metadata": {},
     "output_type": "display_data"
    },
    {
     "name": "stdout",
     "output_type": "stream",
     "text": [
      "\n",
      " ..................... \n",
      "\n",
      "Los principales estadísticos de las columnas categóricas para el A son: \n"
     ]
    },
    {
     "data": {
      "text/html": [
       "<div>\n",
       "<style scoped>\n",
       "    .dataframe tbody tr th:only-of-type {\n",
       "        vertical-align: middle;\n",
       "    }\n",
       "\n",
       "    .dataframe tbody tr th {\n",
       "        vertical-align: top;\n",
       "    }\n",
       "\n",
       "    .dataframe thead th {\n",
       "        text-align: right;\n",
       "    }\n",
       "</style>\n",
       "<table border=\"1\" class=\"dataframe\">\n",
       "  <thead>\n",
       "    <tr style=\"text-align: right;\">\n",
       "      <th></th>\n",
       "      <th>count</th>\n",
       "      <th>unique</th>\n",
       "      <th>top</th>\n",
       "      <th>freq</th>\n",
       "    </tr>\n",
       "  </thead>\n",
       "  <tbody>\n",
       "    <tr>\n",
       "      <th>page_version</th>\n",
       "      <td>55</td>\n",
       "      <td>1</td>\n",
       "      <td>A</td>\n",
       "      <td>55</td>\n",
       "    </tr>\n",
       "  </tbody>\n",
       "</table>\n",
       "</div>"
      ],
      "text/plain": [
       "             count unique top freq\n",
       "page_version    55      1   A   55"
      ]
     },
     "metadata": {},
     "output_type": "display_data"
    },
    {
     "name": "stdout",
     "output_type": "stream",
     "text": [
      "\n",
      " ..................... \n",
      "\n",
      "Los principales estadísticos de las columnas numéricas para el A son: \n"
     ]
    },
    {
     "data": {
      "text/html": [
       "<div>\n",
       "<style scoped>\n",
       "    .dataframe tbody tr th:only-of-type {\n",
       "        vertical-align: middle;\n",
       "    }\n",
       "\n",
       "    .dataframe tbody tr th {\n",
       "        vertical-align: top;\n",
       "    }\n",
       "\n",
       "    .dataframe thead th {\n",
       "        text-align: right;\n",
       "    }\n",
       "</style>\n",
       "<table border=\"1\" class=\"dataframe\">\n",
       "  <thead>\n",
       "    <tr style=\"text-align: right;\">\n",
       "      <th></th>\n",
       "      <th>count</th>\n",
       "      <th>mean</th>\n",
       "      <th>std</th>\n",
       "      <th>min</th>\n",
       "      <th>25%</th>\n",
       "      <th>50%</th>\n",
       "      <th>75%</th>\n",
       "      <th>max</th>\n",
       "    </tr>\n",
       "  </thead>\n",
       "  <tbody>\n",
       "    <tr>\n",
       "      <th>session_duration</th>\n",
       "      <td>55.0</td>\n",
       "      <td>304.243138</td>\n",
       "      <td>44.036204</td>\n",
       "      <td>216.745985</td>\n",
       "      <td>281.055692</td>\n",
       "      <td>297.047708</td>\n",
       "      <td>334.760486</td>\n",
       "      <td>393.473388</td>\n",
       "    </tr>\n",
       "    <tr>\n",
       "      <th>bounce_rate</th>\n",
       "      <td>55.0</td>\n",
       "      <td>0.290064</td>\n",
       "      <td>0.053722</td>\n",
       "      <td>0.200471</td>\n",
       "      <td>0.247088</td>\n",
       "      <td>0.297050</td>\n",
       "      <td>0.328625</td>\n",
       "      <td>0.397070</td>\n",
       "    </tr>\n",
       "    <tr>\n",
       "      <th>conversion_rate</th>\n",
       "      <td>55.0</td>\n",
       "      <td>0.071229</td>\n",
       "      <td>0.015793</td>\n",
       "      <td>0.044756</td>\n",
       "      <td>0.057858</td>\n",
       "      <td>0.069649</td>\n",
       "      <td>0.084408</td>\n",
       "      <td>0.098960</td>\n",
       "    </tr>\n",
       "  </tbody>\n",
       "</table>\n",
       "</div>"
      ],
      "text/plain": [
       "                  count        mean        std         min         25%  \\\n",
       "session_duration   55.0  304.243138  44.036204  216.745985  281.055692   \n",
       "bounce_rate        55.0    0.290064   0.053722    0.200471    0.247088   \n",
       "conversion_rate    55.0    0.071229   0.015793    0.044756    0.057858   \n",
       "\n",
       "                         50%         75%         max  \n",
       "session_duration  297.047708  334.760486  393.473388  \n",
       "bounce_rate         0.297050    0.328625    0.397070  \n",
       "conversion_rate     0.069649    0.084408    0.098960  "
      ]
     },
     "metadata": {},
     "output_type": "display_data"
    },
    {
     "name": "stdout",
     "output_type": "stream",
     "text": [
      "\n",
      " ..................... \n",
      "\n",
      "Los principales estadísticos de las columnas categóricas para el B son: \n"
     ]
    },
    {
     "data": {
      "text/html": [
       "<div>\n",
       "<style scoped>\n",
       "    .dataframe tbody tr th:only-of-type {\n",
       "        vertical-align: middle;\n",
       "    }\n",
       "\n",
       "    .dataframe tbody tr th {\n",
       "        vertical-align: top;\n",
       "    }\n",
       "\n",
       "    .dataframe thead th {\n",
       "        text-align: right;\n",
       "    }\n",
       "</style>\n",
       "<table border=\"1\" class=\"dataframe\">\n",
       "  <thead>\n",
       "    <tr style=\"text-align: right;\">\n",
       "      <th></th>\n",
       "      <th>count</th>\n",
       "      <th>unique</th>\n",
       "      <th>top</th>\n",
       "      <th>freq</th>\n",
       "    </tr>\n",
       "  </thead>\n",
       "  <tbody>\n",
       "    <tr>\n",
       "      <th>page_version</th>\n",
       "      <td>55</td>\n",
       "      <td>1</td>\n",
       "      <td>B</td>\n",
       "      <td>55</td>\n",
       "    </tr>\n",
       "  </tbody>\n",
       "</table>\n",
       "</div>"
      ],
      "text/plain": [
       "             count unique top freq\n",
       "page_version    55      1   B   55"
      ]
     },
     "metadata": {},
     "output_type": "display_data"
    },
    {
     "name": "stdout",
     "output_type": "stream",
     "text": [
      "\n",
      " ..................... \n",
      "\n",
      "Los principales estadísticos de las columnas numéricas para el B son: \n"
     ]
    },
    {
     "data": {
      "text/html": [
       "<div>\n",
       "<style scoped>\n",
       "    .dataframe tbody tr th:only-of-type {\n",
       "        vertical-align: middle;\n",
       "    }\n",
       "\n",
       "    .dataframe tbody tr th {\n",
       "        vertical-align: top;\n",
       "    }\n",
       "\n",
       "    .dataframe thead th {\n",
       "        text-align: right;\n",
       "    }\n",
       "</style>\n",
       "<table border=\"1\" class=\"dataframe\">\n",
       "  <thead>\n",
       "    <tr style=\"text-align: right;\">\n",
       "      <th></th>\n",
       "      <th>count</th>\n",
       "      <th>mean</th>\n",
       "      <th>std</th>\n",
       "      <th>min</th>\n",
       "      <th>25%</th>\n",
       "      <th>50%</th>\n",
       "      <th>75%</th>\n",
       "      <th>max</th>\n",
       "    </tr>\n",
       "  </thead>\n",
       "  <tbody>\n",
       "    <tr>\n",
       "      <th>session_duration</th>\n",
       "      <td>55.0</td>\n",
       "      <td>319.194258</td>\n",
       "      <td>38.293738</td>\n",
       "      <td>244.287849</td>\n",
       "      <td>289.674048</td>\n",
       "      <td>321.640974</td>\n",
       "      <td>344.876807</td>\n",
       "      <td>413.356623</td>\n",
       "    </tr>\n",
       "    <tr>\n",
       "      <th>bounce_rate</th>\n",
       "      <td>55.0</td>\n",
       "      <td>0.280104</td>\n",
       "      <td>0.041674</td>\n",
       "      <td>0.206448</td>\n",
       "      <td>0.245338</td>\n",
       "      <td>0.288822</td>\n",
       "      <td>0.315654</td>\n",
       "      <td>0.346803</td>\n",
       "    </tr>\n",
       "    <tr>\n",
       "      <th>conversion_rate</th>\n",
       "      <td>55.0</td>\n",
       "      <td>0.083168</td>\n",
       "      <td>0.020408</td>\n",
       "      <td>0.051426</td>\n",
       "      <td>0.066465</td>\n",
       "      <td>0.080247</td>\n",
       "      <td>0.102651</td>\n",
       "      <td>0.119904</td>\n",
       "    </tr>\n",
       "  </tbody>\n",
       "</table>\n",
       "</div>"
      ],
      "text/plain": [
       "                  count        mean        std         min         25%  \\\n",
       "session_duration   55.0  319.194258  38.293738  244.287849  289.674048   \n",
       "bounce_rate        55.0    0.280104   0.041674    0.206448    0.245338   \n",
       "conversion_rate    55.0    0.083168   0.020408    0.051426    0.066465   \n",
       "\n",
       "                         50%         75%         max  \n",
       "session_duration  321.640974  344.876807  413.356623  \n",
       "bounce_rate         0.288822    0.315654    0.346803  \n",
       "conversion_rate     0.080247    0.102651    0.119904  "
      ]
     },
     "metadata": {},
     "output_type": "display_data"
    }
   ],
   "source": [
    "# Exploración básica del df\n",
    "sa.exploracion_dataframe(df_web, 'page_version')"
   ]
  },
  {
   "cell_type": "code",
   "execution_count": 6,
   "metadata": {},
   "outputs": [
    {
     "name": "stdout",
     "output_type": "stream",
     "text": [
      "                mean     std\n",
      "page_version                \n",
      "A             0.0712  0.0158\n",
      "B             0.0832  0.0204\n"
     ]
    }
   ],
   "source": [
    "# Agrupamos 'page_version' devolviendo los estadísticos de media y desviación estándar\n",
    "ratio_conversion = df_web.groupby('page_version')['conversion_rate'].agg(['mean','std']).round(4)\n",
    "print(ratio_conversion)"
   ]
  },
  {
   "cell_type": "markdown",
   "metadata": {},
   "source": [
    "Aunque la tasa de conversión de la página B es mayor que la página A, las desviaciones estándar muestran que hay más variabilidad en los datos en la versión B. Una mayor variabilidad puede llevarnos a una mayor incertidumbre."
   ]
  },
  {
   "cell_type": "markdown",
   "metadata": {},
   "source": [
    "## 1.3 Visualización"
   ]
  },
  {
   "cell_type": "code",
   "execution_count": 7,
   "metadata": {},
   "outputs": [
    {
     "data": {
      "image/png": "[encoded data removed]",
      "text/plain": [
       "<Figure size 2000x500 with 3 Axes>"
      ]
     },
     "metadata": {},
     "output_type": "display_data"
    }
   ],
   "source": [
    "# Mostramos un gráfico de barras para ver las diferentes métricas según la versión de la página:\n",
    "fig, axes = plt.subplots(nrows=1, ncols=3, figsize=(20, 5)) # Creamos subgráficos.\n",
    "columnas_graficas = [\"session_duration\", \"bounce_rate\", \"conversion_rate\"] # Creamos una lista con las variables numéricas que queremos incluir en las gráficas.\n",
    "\n",
    "for indice, columna in enumerate(columnas_graficas):\n",
    "    sns.barplot(x=\"page_version\", y=columna, data=df_web, ax=axes[indice], palette=\"flare\") # Creamos un barplot para nuestras gráficas.\n",
    "    axes[indice].set_title(columna) # Ponemos título a las gráficas.\n",
    "\n",
    "plt.tight_layout();"
   ]
  },
  {
   "cell_type": "markdown",
   "metadata": {},
   "source": [
    "## 1.4 Formulación de hipótesis"
   ]
  },
  {
   "cell_type": "markdown",
   "metadata": {},
   "source": [
    "- **Efecto de la nueva versión de la página:** En este caso las hipótesis serían: \n",
    "\n",
    "    - $H0$: La versión B de la web no tiene un impacto significativo respecto a la versión A.\n",
    "\n",
    "    - $H1$: La versión B de la web tiene un impacto significativo respecto a la versión A. "
   ]
  },
  {
   "cell_type": "markdown",
   "metadata": {},
   "source": [
    "## 1.5 Prueba estadística"
   ]
  },
  {
   "cell_type": "code",
   "execution_count": 8,
   "metadata": {},
   "outputs": [],
   "source": [
    "# Lista de métricas\n",
    "metricas = [\"session_duration\", \"bounce_rate\", \"conversion_rate\"]"
   ]
  },
  {
   "cell_type": "code",
   "execution_count": 9,
   "metadata": {},
   "outputs": [],
   "source": [
    "grupos = df_web[\"page_version\"].unique()"
   ]
  },
  {
   "cell_type": "markdown",
   "metadata": {},
   "source": [
    "**Prueba de normalidad (Shapiro-Wilk)**"
   ]
  },
  {
   "cell_type": "code",
   "execution_count": 10,
   "metadata": {},
   "outputs": [
    {
     "name": "stdout",
     "output_type": "stream",
     "text": [
      "Estamos analizando la variable SESSION_DURATION para la página A\n",
      "Para la columna session_duration, los datos siguen una distribución normal según el test de Shapiro-Wilk.\n",
      "\n",
      "-------------\n",
      "\n",
      "Estamos analizando la variable SESSION_DURATION para la página B\n",
      "Para la columna session_duration, los datos siguen una distribución normal según el test de Shapiro-Wilk.\n",
      "\n",
      "-------------\n",
      "\n",
      "Estamos analizando la variable BOUNCE_RATE para la página A\n",
      "Para la columna bounce_rate, los datos siguen una distribución normal según el test de Shapiro-Wilk.\n",
      "\n",
      "-------------\n",
      "\n",
      "Estamos analizando la variable BOUNCE_RATE para la página B\n",
      "Para la columna bounce_rate, los datos no siguen una distribución normal según el test de Shapiro-Wilk.\n",
      "\n",
      "-------------\n",
      "\n",
      "Estamos analizando la variable CONVERSION_RATE para la página A\n",
      "Para la columna conversion_rate, los datos no siguen una distribución normal según el test de Shapiro-Wilk.\n",
      "\n",
      "-------------\n",
      "\n",
      "Estamos analizando la variable CONVERSION_RATE para la página B\n",
      "Para la columna conversion_rate, los datos no siguen una distribución normal según el test de Shapiro-Wilk.\n",
      "\n",
      "-------------\n",
      "\n"
     ]
    }
   ],
   "source": [
    "# Evaluamos normalidad para cada grupo\n",
    "for metrica in metricas: \n",
    "    for grupo in grupos: \n",
    "        print(f\"Estamos analizando la variable {metrica.upper()} para la página {grupo.upper()}\")\n",
    "        df_normalidad = df_web[df_web[\"page_version\"] == grupo]\n",
    "        test_asunciones = sa.Asunciones(dataframe = df_normalidad, columna_numerica = metrica)\n",
    "        test_asunciones.identificar_normalidad_analitica() # Comprobamos la asunción de normalidad, como tenemos menos de 50 datos por grupo, usaremos un shapiro test.\n",
    "        print(\"\\n-------------\\n\")"
   ]
  },
  {
   "cell_type": "markdown",
   "metadata": {},
   "source": [
    "<div style=\"background-color: #F74646; padding: 10px; border-left: 6px solid #000000; color: black; border-radius: 10px;\">\n",
    "<h5>Los principales resultados de los análisis de normalidad son:</h5>\n",
    "\n",
    "1. **SESSION_DURATION**:\n",
    "\n",
    "   - **Página A**: la variable SESSION_DURATION sigue una distribución normal.\n",
    "\n",
    "   - **Página B**: la variable SESSION_DURATION sigue una distribución normal.\n",
    "\n",
    "2. **BOUNCE_RATE**:\n",
    "\n",
    "   - **Página A**: la variable BOUNCE_RATE sigue una distribución normal.\n",
    "\n",
    "   - **Página B**: la variable BOUNCE_RATE no sigue una distribución normal.\n",
    "\n",
    "3. **CONVERSION_RATE**:\n",
    "\n",
    "   - **Página A**: la variable CONVERSION_RATE no sigue una distribución normal.\n",
    "\n",
    "   - **Página B**: la variable CONVERSION_RATE no sigue una distribución normal.\n",
    "\n",
    "De estos resultados podemos concluir que:\n",
    "\n",
    "1. **SESSION_DURATION**: dado que la variable SESSION_DURATION sigue una distribución normal en ambas versiones, cumplen las asunciones de normalidad y tenemos que comprobar las asunciones de homocedasticidad.\n",
    "\n",
    "2. **BOUNCE_RATE y CONVERSION_RATE**: ambas variables no siguen una distribución normal, salvo la página A en la variable BOUNCE_RATE. Esto indica claramente que las asunciones de normalidad no se cumplen para estas variables. Por consiguiente, las pruebas paramétricas no serían adecuadas para analizar estas variables.\n",
    "\n",
    "</div>"
   ]
  },
  {
   "cell_type": "markdown",
   "metadata": {},
   "source": [
    "**Prueba de homocedasticidad**"
   ]
  },
  {
   "cell_type": "code",
   "execution_count": 11,
   "metadata": {},
   "outputs": [
    {
     "name": "stdout",
     "output_type": "stream",
     "text": [
      "Estamos analizando la variable SESSION_DURATION para la página A\n",
      "En la variable session_duration las varianzas NO son homogéneas entre grupos.\n",
      "Estamos analizando la variable SESSION_DURATION para la página B\n",
      "En la variable session_duration las varianzas NO son homogéneas entre grupos.\n"
     ]
    }
   ],
   "source": [
    "# Evaluamos homocedasticidad para SESSION_DURATION\n",
    "metricas_homo = ['session_duration']\n",
    "for metrica in metricas_homo: \n",
    "    for grupo in grupos: \n",
    "        print(f\"Estamos analizando la variable {metrica.upper()} para la página {grupo.upper()}\")\n",
    "        df_homocedasticidad = df_web[df_web[\"page_version\"] == grupo]\n",
    "        test_asunciones = sa.Asunciones(dataframe = df_homocedasticidad, columna_numerica = metrica)\n",
    "        test_asunciones.identificar_homogeneidad(metrica) # Comprobamos la asunción de homocedasticidad"
   ]
  },
  {
   "cell_type": "markdown",
   "metadata": {},
   "source": [
    "Al no cumplir con la asunción de homocedasticidad en la variable SESSION_DURATION, optamos por realizar un test no paramétrico para todas las variables. En concreto, vamos a utilizar Mann-Whitney U"
   ]
  },
  {
   "cell_type": "code",
   "execution_count": 12,
   "metadata": {},
   "outputs": [
    {
     "name": "stdout",
     "output_type": "stream",
     "text": [
      "\n",
      "Estamos analizando la métrica SESSION_DURATION\n",
      "Estadístico del Test de Mann-Whitney U: 1218.0\n",
      "Valor p: 0.07881991355651088\n",
      "No hay evidencia suficiente para concluir que hay una diferencia significativa.\n",
      "\n",
      "Estamos analizando la métrica BOUNCE_RATE\n",
      "Estadístico del Test de Mann-Whitney U: 1664.0\n",
      "Valor p: 0.3666851927682341\n",
      "No hay evidencia suficiente para concluir que hay una diferencia significativa.\n",
      "\n",
      "Estamos analizando la métrica CONVERSION_RATE\n",
      "Estadístico del Test de Mann-Whitney U: 1011.0\n",
      "Valor p: 0.002743992803400077\n",
      "Hay una diferencia significativa entre los datos antes y después\n"
     ]
    }
   ],
   "source": [
    "# Iteramos por la lista de métricas:\n",
    "for metrica in metricas:\n",
    "    print(f\"\\nEstamos analizando la métrica {metrica.upper()}\")\n",
    "    no_parametricos = sa.Pruebas_no_parametricas(df_web, metrica, \"page_version\") # Instanciamos la clase de los test no parámetricos.\n",
    "    datos_categorias = no_parametricos.generar_grupos() # Generamos los datos para cada una de las categorías.\n",
    "    no_parametricos.test_manwhitneyu(datos_categorias) # Llamamos al método para calcular el test de Mann Whitney U."
   ]
  },
  {
   "cell_type": "markdown",
   "metadata": {},
   "source": [
    "## 1.6 Conclusiones"
   ]
  },
  {
   "cell_type": "markdown",
   "metadata": {},
   "source": [
    "<div style=\"background-color: #F74646; padding: 10px; border-left: 6px solid #000000; color: black; border-radius: 10px;\">\n",
    "<h5>Interpretación de los resultados</h5>\n",
    "\n",
    "- **SESSION_DURATION** --> p value: 0.079\n",
    "\n",
    "    El p value es > 0.05, lo que indica que no hay evidencia suficiente para concluir que hay una diferencia significativa en la métrica de duración de la sesión entre ambas versiones de la página. Esto significa que el cambio implementado no ha tenido un impacto significativo. Revisando el gráfico, observamos que, a pesar de no tener un impacto significativo, hay más engagement en las sesiones.\n",
    "\n",
    "\n",
    "- **BOUNCE_RATE** --> p value: 0.367\n",
    "\n",
    "\n",
    "    El p value también es > 0.05. Estos resultados sugieren que el cambio implementado no ha tenido un impacto significativo en la tasa de rebote. Igualmente, observamos que la tasa de rebote ha disminuido, siendo algo positivo.  \n",
    "\n",
    "- **CONVERSION_RATE** --> p value: 0.003\n",
    "\n",
    "    El p value es < 0.05, indicando que hay evidencia suficiente para concluir que hay una diferencia significativa en la tasa de conversión entre los dos grupos. Esto sugiere que el cambio implementado ha tenido un impacto significativo. \n",
    "\n",
    "A la vista de todos los resultados, podemos sugerir que el cambio implementado ha tenido un impacto significativo en la tasa de conversión, pero no así en la duración de la sesión ni en la tasa de rebote. A pesar de ello, podemos concluir que la versión B de la página es mejor que la versión A, rechazando la hipótesis nula y aceptando así la hipótesis alternativa. \n",
    "\n",
    "</div>"
   ]
  },
  {
   "cell_type": "markdown",
   "metadata": {},
   "source": [
    "# 2. SM data"
   ]
  },
  {
   "cell_type": "markdown",
   "metadata": {},
   "source": [
    "## 2.1 Lectura de datos"
   ]
  },
  {
   "cell_type": "code",
   "execution_count": 13,
   "metadata": {},
   "outputs": [
    {
     "data": {
      "text/html": [
       "<div>\n",
       "<style scoped>\n",
       "    .dataframe tbody tr th:only-of-type {\n",
       "        vertical-align: middle;\n",
       "    }\n",
       "\n",
       "    .dataframe tbody tr th {\n",
       "        vertical-align: top;\n",
       "    }\n",
       "\n",
       "    .dataframe thead th {\n",
       "        text-align: right;\n",
       "    }\n",
       "</style>\n",
       "<table border=\"1\" class=\"dataframe\">\n",
       "  <thead>\n",
       "    <tr style=\"text-align: right;\">\n",
       "      <th></th>\n",
       "      <th>ad_id</th>\n",
       "      <th>platform</th>\n",
       "      <th>engagement_rate</th>\n",
       "      <th>click_through_rate</th>\n",
       "      <th>cost_per_click</th>\n",
       "    </tr>\n",
       "  </thead>\n",
       "  <tbody>\n",
       "    <tr>\n",
       "      <th>93</th>\n",
       "      <td>AD2</td>\n",
       "      <td>Instagram</td>\n",
       "      <td>0.583137</td>\n",
       "      <td>0.052833</td>\n",
       "      <td>1.069697</td>\n",
       "    </tr>\n",
       "    <tr>\n",
       "      <th>42</th>\n",
       "      <td>AD1</td>\n",
       "      <td>Twitter</td>\n",
       "      <td>0.588924</td>\n",
       "      <td>0.048533</td>\n",
       "      <td>1.173738</td>\n",
       "    </tr>\n",
       "    <tr>\n",
       "      <th>59</th>\n",
       "      <td>AD2</td>\n",
       "      <td>Twitter</td>\n",
       "      <td>0.578159</td>\n",
       "      <td>0.052461</td>\n",
       "      <td>1.347045</td>\n",
       "    </tr>\n",
       "    <tr>\n",
       "      <th>88</th>\n",
       "      <td>AD2</td>\n",
       "      <td>Facebook</td>\n",
       "      <td>0.601984</td>\n",
       "      <td>0.042737</td>\n",
       "      <td>1.260610</td>\n",
       "    </tr>\n",
       "    <tr>\n",
       "      <th>28</th>\n",
       "      <td>AD1</td>\n",
       "      <td>Facebook</td>\n",
       "      <td>0.560739</td>\n",
       "      <td>0.034181</td>\n",
       "      <td>1.184132</td>\n",
       "    </tr>\n",
       "  </tbody>\n",
       "</table>\n",
       "</div>"
      ],
      "text/plain": [
       "   ad_id   platform  engagement_rate  click_through_rate  cost_per_click\n",
       "93   AD2  Instagram         0.583137            0.052833        1.069697\n",
       "42   AD1    Twitter         0.588924            0.048533        1.173738\n",
       "59   AD2    Twitter         0.578159            0.052461        1.347045\n",
       "88   AD2   Facebook         0.601984            0.042737        1.260610\n",
       "28   AD1   Facebook         0.560739            0.034181        1.184132"
      ]
     },
     "execution_count": 13,
     "metadata": {},
     "output_type": "execute_result"
    }
   ],
   "source": [
    "# Cargamos el conjunto de datos\n",
    "df_sm = pd.read_csv('Datos/sm_data.csv')\n",
    "df_sm.sample(5)"
   ]
  },
  {
   "cell_type": "markdown",
   "metadata": {},
   "source": [
    "## 2.2 Breve exploración de los datos"
   ]
  },
  {
   "cell_type": "code",
   "execution_count": 14,
   "metadata": {},
   "outputs": [
    {
     "name": "stdout",
     "output_type": "stream",
     "text": [
      "<class 'pandas.core.frame.DataFrame'>\n",
      "RangeIndex: 100 entries, 0 to 99\n",
      "Data columns (total 5 columns):\n",
      " #   Column              Non-Null Count  Dtype  \n",
      "---  ------              --------------  -----  \n",
      " 0   ad_id               100 non-null    object \n",
      " 1   platform            100 non-null    object \n",
      " 2   engagement_rate     100 non-null    float64\n",
      " 3   click_through_rate  100 non-null    float64\n",
      " 4   cost_per_click      100 non-null    float64\n",
      "dtypes: float64(3), object(2)\n",
      "memory usage: 4.0+ KB\n"
     ]
    }
   ],
   "source": [
    "# Mostramos la información general del df\n",
    "df_sm.info()"
   ]
  },
  {
   "cell_type": "code",
   "execution_count": 15,
   "metadata": {},
   "outputs": [
    {
     "name": "stdout",
     "output_type": "stream",
     "text": [
      "El número de datos es 100 y el de columnas es 5\n",
      "\n",
      " ..................... \n",
      "\n",
      "Los duplicados que tenemos en el conjunto de datos son: 0\n",
      "\n",
      " ..................... \n",
      "\n",
      "Los nulos que tenemos en el conjunto de datos son:\n"
     ]
    },
    {
     "data": {
      "text/html": [
       "<div>\n",
       "<style scoped>\n",
       "    .dataframe tbody tr th:only-of-type {\n",
       "        vertical-align: middle;\n",
       "    }\n",
       "\n",
       "    .dataframe tbody tr th {\n",
       "        vertical-align: top;\n",
       "    }\n",
       "\n",
       "    .dataframe thead th {\n",
       "        text-align: right;\n",
       "    }\n",
       "</style>\n",
       "<table border=\"1\" class=\"dataframe\">\n",
       "  <thead>\n",
       "    <tr style=\"text-align: right;\">\n",
       "      <th></th>\n",
       "      <th>%_nulos</th>\n",
       "    </tr>\n",
       "  </thead>\n",
       "  <tbody>\n",
       "  </tbody>\n",
       "</table>\n",
       "</div>"
      ],
      "text/plain": [
       "Empty DataFrame\n",
       "Columns: [%_nulos]\n",
       "Index: []"
      ]
     },
     "metadata": {},
     "output_type": "display_data"
    },
    {
     "name": "stdout",
     "output_type": "stream",
     "text": [
      "\n",
      " ..................... \n",
      "\n",
      "Los tipos de las columnas son:\n"
     ]
    },
    {
     "data": {
      "text/html": [
       "<div>\n",
       "<style scoped>\n",
       "    .dataframe tbody tr th:only-of-type {\n",
       "        vertical-align: middle;\n",
       "    }\n",
       "\n",
       "    .dataframe tbody tr th {\n",
       "        vertical-align: top;\n",
       "    }\n",
       "\n",
       "    .dataframe thead th {\n",
       "        text-align: right;\n",
       "    }\n",
       "</style>\n",
       "<table border=\"1\" class=\"dataframe\">\n",
       "  <thead>\n",
       "    <tr style=\"text-align: right;\">\n",
       "      <th></th>\n",
       "      <th>tipo_dato</th>\n",
       "    </tr>\n",
       "  </thead>\n",
       "  <tbody>\n",
       "    <tr>\n",
       "      <th>ad_id</th>\n",
       "      <td>object</td>\n",
       "    </tr>\n",
       "    <tr>\n",
       "      <th>platform</th>\n",
       "      <td>object</td>\n",
       "    </tr>\n",
       "    <tr>\n",
       "      <th>engagement_rate</th>\n",
       "      <td>float64</td>\n",
       "    </tr>\n",
       "    <tr>\n",
       "      <th>click_through_rate</th>\n",
       "      <td>float64</td>\n",
       "    </tr>\n",
       "    <tr>\n",
       "      <th>cost_per_click</th>\n",
       "      <td>float64</td>\n",
       "    </tr>\n",
       "  </tbody>\n",
       "</table>\n",
       "</div>"
      ],
      "text/plain": [
       "                   tipo_dato\n",
       "ad_id                 object\n",
       "platform              object\n",
       "engagement_rate      float64\n",
       "click_through_rate   float64\n",
       "cost_per_click       float64"
      ]
     },
     "metadata": {},
     "output_type": "display_data"
    },
    {
     "name": "stdout",
     "output_type": "stream",
     "text": [
      "\n",
      " ..................... \n",
      "\n",
      "Los valores que tenemos para las columnas categóricas son: \n",
      "La columna AD_ID tiene las siguientes valore únicos:\n"
     ]
    },
    {
     "data": {
      "text/html": [
       "<div>\n",
       "<style scoped>\n",
       "    .dataframe tbody tr th:only-of-type {\n",
       "        vertical-align: middle;\n",
       "    }\n",
       "\n",
       "    .dataframe tbody tr th {\n",
       "        vertical-align: top;\n",
       "    }\n",
       "\n",
       "    .dataframe thead th {\n",
       "        text-align: right;\n",
       "    }\n",
       "</style>\n",
       "<table border=\"1\" class=\"dataframe\">\n",
       "  <thead>\n",
       "    <tr style=\"text-align: right;\">\n",
       "      <th></th>\n",
       "      <th>count</th>\n",
       "    </tr>\n",
       "    <tr>\n",
       "      <th>ad_id</th>\n",
       "      <th></th>\n",
       "    </tr>\n",
       "  </thead>\n",
       "  <tbody>\n",
       "    <tr>\n",
       "      <th>AD1</th>\n",
       "      <td>50</td>\n",
       "    </tr>\n",
       "    <tr>\n",
       "      <th>AD2</th>\n",
       "      <td>50</td>\n",
       "    </tr>\n",
       "  </tbody>\n",
       "</table>\n",
       "</div>"
      ],
      "text/plain": [
       "       count\n",
       "ad_id       \n",
       "AD1       50\n",
       "AD2       50"
      ]
     },
     "metadata": {},
     "output_type": "display_data"
    },
    {
     "name": "stdout",
     "output_type": "stream",
     "text": [
      "La columna PLATFORM tiene las siguientes valore únicos:\n"
     ]
    },
    {
     "data": {
      "text/html": [
       "<div>\n",
       "<style scoped>\n",
       "    .dataframe tbody tr th:only-of-type {\n",
       "        vertical-align: middle;\n",
       "    }\n",
       "\n",
       "    .dataframe tbody tr th {\n",
       "        vertical-align: top;\n",
       "    }\n",
       "\n",
       "    .dataframe thead th {\n",
       "        text-align: right;\n",
       "    }\n",
       "</style>\n",
       "<table border=\"1\" class=\"dataframe\">\n",
       "  <thead>\n",
       "    <tr style=\"text-align: right;\">\n",
       "      <th></th>\n",
       "      <th>count</th>\n",
       "    </tr>\n",
       "    <tr>\n",
       "      <th>platform</th>\n",
       "      <th></th>\n",
       "    </tr>\n",
       "  </thead>\n",
       "  <tbody>\n",
       "    <tr>\n",
       "      <th>Twitter</th>\n",
       "      <td>37</td>\n",
       "    </tr>\n",
       "    <tr>\n",
       "      <th>Facebook</th>\n",
       "      <td>34</td>\n",
       "    </tr>\n",
       "    <tr>\n",
       "      <th>Instagram</th>\n",
       "      <td>29</td>\n",
       "    </tr>\n",
       "  </tbody>\n",
       "</table>\n",
       "</div>"
      ],
      "text/plain": [
       "           count\n",
       "platform        \n",
       "Twitter       37\n",
       "Facebook      34\n",
       "Instagram     29"
      ]
     },
     "metadata": {},
     "output_type": "display_data"
    },
    {
     "name": "stdout",
     "output_type": "stream",
     "text": [
      "\n",
      " ..................... \n",
      "\n",
      "Los principales estadísticos de las columnas categóricas para el AD1 son: \n"
     ]
    },
    {
     "data": {
      "text/html": [
       "<div>\n",
       "<style scoped>\n",
       "    .dataframe tbody tr th:only-of-type {\n",
       "        vertical-align: middle;\n",
       "    }\n",
       "\n",
       "    .dataframe tbody tr th {\n",
       "        vertical-align: top;\n",
       "    }\n",
       "\n",
       "    .dataframe thead th {\n",
       "        text-align: right;\n",
       "    }\n",
       "</style>\n",
       "<table border=\"1\" class=\"dataframe\">\n",
       "  <thead>\n",
       "    <tr style=\"text-align: right;\">\n",
       "      <th></th>\n",
       "      <th>count</th>\n",
       "      <th>unique</th>\n",
       "      <th>top</th>\n",
       "      <th>freq</th>\n",
       "    </tr>\n",
       "  </thead>\n",
       "  <tbody>\n",
       "    <tr>\n",
       "      <th>ad_id</th>\n",
       "      <td>50</td>\n",
       "      <td>1</td>\n",
       "      <td>AD1</td>\n",
       "      <td>50</td>\n",
       "    </tr>\n",
       "    <tr>\n",
       "      <th>platform</th>\n",
       "      <td>50</td>\n",
       "      <td>3</td>\n",
       "      <td>Twitter</td>\n",
       "      <td>20</td>\n",
       "    </tr>\n",
       "  </tbody>\n",
       "</table>\n",
       "</div>"
      ],
      "text/plain": [
       "         count unique      top freq\n",
       "ad_id       50      1      AD1   50\n",
       "platform    50      3  Twitter   20"
      ]
     },
     "metadata": {},
     "output_type": "display_data"
    },
    {
     "name": "stdout",
     "output_type": "stream",
     "text": [
      "\n",
      " ..................... \n",
      "\n",
      "Los principales estadísticos de las columnas numéricas para el AD1 son: \n"
     ]
    },
    {
     "data": {
      "text/html": [
       "<div>\n",
       "<style scoped>\n",
       "    .dataframe tbody tr th:only-of-type {\n",
       "        vertical-align: middle;\n",
       "    }\n",
       "\n",
       "    .dataframe tbody tr th {\n",
       "        vertical-align: top;\n",
       "    }\n",
       "\n",
       "    .dataframe thead th {\n",
       "        text-align: right;\n",
       "    }\n",
       "</style>\n",
       "<table border=\"1\" class=\"dataframe\">\n",
       "  <thead>\n",
       "    <tr style=\"text-align: right;\">\n",
       "      <th></th>\n",
       "      <th>count</th>\n",
       "      <th>mean</th>\n",
       "      <th>std</th>\n",
       "      <th>min</th>\n",
       "      <th>25%</th>\n",
       "      <th>50%</th>\n",
       "      <th>75%</th>\n",
       "      <th>max</th>\n",
       "    </tr>\n",
       "  </thead>\n",
       "  <tbody>\n",
       "    <tr>\n",
       "      <th>engagement_rate</th>\n",
       "      <td>50.0</td>\n",
       "      <td>0.588966</td>\n",
       "      <td>0.061906</td>\n",
       "      <td>0.501424</td>\n",
       "      <td>0.531048</td>\n",
       "      <td>0.572583</td>\n",
       "      <td>0.645900</td>\n",
       "      <td>0.698952</td>\n",
       "    </tr>\n",
       "    <tr>\n",
       "      <th>click_through_rate</th>\n",
       "      <td>50.0</td>\n",
       "      <td>0.046578</td>\n",
       "      <td>0.008523</td>\n",
       "      <td>0.030190</td>\n",
       "      <td>0.040267</td>\n",
       "      <td>0.045573</td>\n",
       "      <td>0.054254</td>\n",
       "      <td>0.059685</td>\n",
       "    </tr>\n",
       "    <tr>\n",
       "      <th>cost_per_click</th>\n",
       "      <td>50.0</td>\n",
       "      <td>1.261988</td>\n",
       "      <td>0.127423</td>\n",
       "      <td>1.016467</td>\n",
       "      <td>1.173319</td>\n",
       "      <td>1.242107</td>\n",
       "      <td>1.378723</td>\n",
       "      <td>1.485064</td>\n",
       "    </tr>\n",
       "  </tbody>\n",
       "</table>\n",
       "</div>"
      ],
      "text/plain": [
       "                    count      mean       std       min       25%       50%  \\\n",
       "engagement_rate      50.0  0.588966  0.061906  0.501424  0.531048  0.572583   \n",
       "click_through_rate   50.0  0.046578  0.008523  0.030190  0.040267  0.045573   \n",
       "cost_per_click       50.0  1.261988  0.127423  1.016467  1.173319  1.242107   \n",
       "\n",
       "                         75%       max  \n",
       "engagement_rate     0.645900  0.698952  \n",
       "click_through_rate  0.054254  0.059685  \n",
       "cost_per_click      1.378723  1.485064  "
      ]
     },
     "metadata": {},
     "output_type": "display_data"
    },
    {
     "name": "stdout",
     "output_type": "stream",
     "text": [
      "\n",
      " ..................... \n",
      "\n",
      "Los principales estadísticos de las columnas categóricas para el AD2 son: \n"
     ]
    },
    {
     "data": {
      "text/html": [
       "<div>\n",
       "<style scoped>\n",
       "    .dataframe tbody tr th:only-of-type {\n",
       "        vertical-align: middle;\n",
       "    }\n",
       "\n",
       "    .dataframe tbody tr th {\n",
       "        vertical-align: top;\n",
       "    }\n",
       "\n",
       "    .dataframe thead th {\n",
       "        text-align: right;\n",
       "    }\n",
       "</style>\n",
       "<table border=\"1\" class=\"dataframe\">\n",
       "  <thead>\n",
       "    <tr style=\"text-align: right;\">\n",
       "      <th></th>\n",
       "      <th>count</th>\n",
       "      <th>unique</th>\n",
       "      <th>top</th>\n",
       "      <th>freq</th>\n",
       "    </tr>\n",
       "  </thead>\n",
       "  <tbody>\n",
       "    <tr>\n",
       "      <th>ad_id</th>\n",
       "      <td>50</td>\n",
       "      <td>1</td>\n",
       "      <td>AD2</td>\n",
       "      <td>50</td>\n",
       "    </tr>\n",
       "    <tr>\n",
       "      <th>platform</th>\n",
       "      <td>50</td>\n",
       "      <td>3</td>\n",
       "      <td>Facebook</td>\n",
       "      <td>17</td>\n",
       "    </tr>\n",
       "  </tbody>\n",
       "</table>\n",
       "</div>"
      ],
      "text/plain": [
       "         count unique       top freq\n",
       "ad_id       50      1       AD2   50\n",
       "platform    50      3  Facebook   17"
      ]
     },
     "metadata": {},
     "output_type": "display_data"
    },
    {
     "name": "stdout",
     "output_type": "stream",
     "text": [
      "\n",
      " ..................... \n",
      "\n",
      "Los principales estadísticos de las columnas numéricas para el AD2 son: \n"
     ]
    },
    {
     "data": {
      "text/html": [
       "<div>\n",
       "<style scoped>\n",
       "    .dataframe tbody tr th:only-of-type {\n",
       "        vertical-align: middle;\n",
       "    }\n",
       "\n",
       "    .dataframe tbody tr th {\n",
       "        vertical-align: top;\n",
       "    }\n",
       "\n",
       "    .dataframe thead th {\n",
       "        text-align: right;\n",
       "    }\n",
       "</style>\n",
       "<table border=\"1\" class=\"dataframe\">\n",
       "  <thead>\n",
       "    <tr style=\"text-align: right;\">\n",
       "      <th></th>\n",
       "      <th>count</th>\n",
       "      <th>mean</th>\n",
       "      <th>std</th>\n",
       "      <th>min</th>\n",
       "      <th>25%</th>\n",
       "      <th>50%</th>\n",
       "      <th>75%</th>\n",
       "      <th>max</th>\n",
       "    </tr>\n",
       "  </thead>\n",
       "  <tbody>\n",
       "    <tr>\n",
       "      <th>engagement_rate</th>\n",
       "      <td>50.0</td>\n",
       "      <td>0.593264</td>\n",
       "      <td>0.056697</td>\n",
       "      <td>0.504294</td>\n",
       "      <td>0.538332</td>\n",
       "      <td>0.602862</td>\n",
       "      <td>0.629207</td>\n",
       "      <td>0.696759</td>\n",
       "    </tr>\n",
       "    <tr>\n",
       "      <th>click_through_rate</th>\n",
       "      <td>50.0</td>\n",
       "      <td>0.043885</td>\n",
       "      <td>0.007957</td>\n",
       "      <td>0.030108</td>\n",
       "      <td>0.037285</td>\n",
       "      <td>0.043370</td>\n",
       "      <td>0.049318</td>\n",
       "      <td>0.059068</td>\n",
       "    </tr>\n",
       "    <tr>\n",
       "      <th>cost_per_click</th>\n",
       "      <td>50.0</td>\n",
       "      <td>1.232030</td>\n",
       "      <td>0.146064</td>\n",
       "      <td>1.006431</td>\n",
       "      <td>1.091639</td>\n",
       "      <td>1.250022</td>\n",
       "      <td>1.342890</td>\n",
       "      <td>1.498301</td>\n",
       "    </tr>\n",
       "  </tbody>\n",
       "</table>\n",
       "</div>"
      ],
      "text/plain": [
       "                    count      mean       std       min       25%       50%  \\\n",
       "engagement_rate      50.0  0.593264  0.056697  0.504294  0.538332  0.602862   \n",
       "click_through_rate   50.0  0.043885  0.007957  0.030108  0.037285  0.043370   \n",
       "cost_per_click       50.0  1.232030  0.146064  1.006431  1.091639  1.250022   \n",
       "\n",
       "                         75%       max  \n",
       "engagement_rate     0.629207  0.696759  \n",
       "click_through_rate  0.049318  0.059068  \n",
       "cost_per_click      1.342890  1.498301  "
      ]
     },
     "metadata": {},
     "output_type": "display_data"
    }
   ],
   "source": [
    "# Breve exploración del df\n",
    "sa.exploracion_dataframe(df_sm, 'ad_id')"
   ]
  },
  {
   "cell_type": "markdown",
   "metadata": {},
   "source": [
    "## 2.3 Visualización"
   ]
  },
  {
   "cell_type": "code",
   "execution_count": 16,
   "metadata": {},
   "outputs": [
    {
     "data": {
      "text/html": [
       "<div>\n",
       "<style scoped>\n",
       "    .dataframe tbody tr th:only-of-type {\n",
       "        vertical-align: middle;\n",
       "    }\n",
       "\n",
       "    .dataframe tbody tr th {\n",
       "        vertical-align: top;\n",
       "    }\n",
       "\n",
       "    .dataframe thead th {\n",
       "        text-align: right;\n",
       "    }\n",
       "</style>\n",
       "<table border=\"1\" class=\"dataframe\">\n",
       "  <thead>\n",
       "    <tr style=\"text-align: right;\">\n",
       "      <th></th>\n",
       "      <th>ad_id</th>\n",
       "      <th>click_through_rate</th>\n",
       "    </tr>\n",
       "  </thead>\n",
       "  <tbody>\n",
       "    <tr>\n",
       "      <th>0</th>\n",
       "      <td>AD1</td>\n",
       "      <td>0.046578</td>\n",
       "    </tr>\n",
       "    <tr>\n",
       "      <th>1</th>\n",
       "      <td>AD2</td>\n",
       "      <td>0.043885</td>\n",
       "    </tr>\n",
       "  </tbody>\n",
       "</table>\n",
       "</div>"
      ],
      "text/plain": [
       "  ad_id  click_through_rate\n",
       "0   AD1            0.046578\n",
       "1   AD2            0.043885"
      ]
     },
     "execution_count": 16,
     "metadata": {},
     "output_type": "execute_result"
    }
   ],
   "source": [
    "# Agrupamos 'ad_id' por CTR\n",
    "df_groupby = df_sm.groupby('ad_id')['click_through_rate'].mean().reset_index()\n",
    "df_groupby"
   ]
  },
  {
   "cell_type": "code",
   "execution_count": 17,
   "metadata": {},
   "outputs": [
    {
     "data": {
      "image/png": "[encoded data removed]",
      "text/plain": [
       "<Figure size 1000x500 with 1 Axes>"
      ]
     },
     "metadata": {},
     "output_type": "display_data"
    }
   ],
   "source": [
    "# Creamos un gráfico de barras para mostrar el CTR por plataforma en función del grupo de anuncios\n",
    "plt.figure(figsize=(10,5))\n",
    "\n",
    "fig2 = sns.barplot(data=df_sm,\n",
    "                  x='platform',\n",
    "                  y='click_through_rate',\n",
    "                  hue='ad_id')\n",
    "\n",
    "fig2.legend(loc='upper right',\n",
    "           bbox_to_anchor=(1.1, 1))\n",
    "fig2.spines['top'].set_visible(False)\n",
    "fig2.spines['right'].set_visible(False)\n",
    "fig2.set_title('CTR por Plataforma')\n",
    "fig2.set_xlabel(\"\")\n",
    "fig2.set_ylabel('CTR');"
   ]
  },
  {
   "cell_type": "markdown",
   "metadata": {},
   "source": [
    "A simple vista, podemos observar que el AD2 tiene un peor CTR en todas las plataformas"
   ]
  },
  {
   "cell_type": "code",
   "execution_count": 18,
   "metadata": {},
   "outputs": [
    {
     "data": {
      "image/png": "[encoded data removed]",
      "text/plain": [
       "<Figure size 1000x500 with 1 Axes>"
      ]
     },
     "metadata": {},
     "output_type": "display_data"
    }
   ],
   "source": [
    "# Ahora mostramos el gráfico del CTR global en función del grupo de anuncios\n",
    "plt.figure(figsize=(10,5))\n",
    "\n",
    "fig2 = sns.barplot(data=df_sm,\n",
    "                  x='ad_id',\n",
    "                  y='click_through_rate')\n",
    "\n",
    "fig2.spines['top'].set_visible(False)\n",
    "fig2.spines['right'].set_visible(False)\n",
    "fig2.set_title('CTR por Plataforma')\n",
    "fig2.set_xlabel(\"\")\n",
    "fig2.set_ylabel('CTR');"
   ]
  },
  {
   "cell_type": "code",
   "execution_count": 19,
   "metadata": {},
   "outputs": [
    {
     "data": {
      "image/png": "[encoded data removed]",
      "text/plain": [
       "<Figure size 2000x500 with 3 Axes>"
      ]
     },
     "metadata": {},
     "output_type": "display_data"
    }
   ],
   "source": [
    "# Mostramos un gráfico de barras para ver las diferentes métricas según la versión del anuncio:\n",
    "fig, axes = plt.subplots(nrows=1, ncols=3, figsize=(20, 5)) # Creamos subgráficos.\n",
    "columnas_graficas_2 = [\"engagement_rate\", \"click_through_rate\", \"cost_per_click\"] # Creamos una lista con las variables numéricas que queremos incluir en las gráficas.\n",
    "\n",
    "for indice, columna in enumerate(columnas_graficas_2):\n",
    "    sns.barplot(x=\"ad_id\", y=columna, data=df_sm, ax=axes[indice], palette=\"flare\") # Creamos un barplot para nuestras gráficas.\n",
    "    axes[indice].set_title(columna) # Ponemos título a las gráficas.\n",
    "\n",
    "plt.tight_layout();"
   ]
  },
  {
   "cell_type": "markdown",
   "metadata": {},
   "source": [
    "## 2.4 Formulación de hipótesis"
   ]
  },
  {
   "cell_type": "markdown",
   "metadata": {},
   "source": [
    "- **Efecto de la campaña AD2:** En este caso las hipótesis serían: \n",
    "\n",
    "    - $H0$: No hay diferencia significativa entre los grupos de anuncios 1 y 2. \n",
    "\n",
    "    - $H1$: Hay una diferencia significativa entre los grupos de anuncios 1 y 2.  "
   ]
  },
  {
   "cell_type": "markdown",
   "metadata": {},
   "source": [
    "## 2.5 Prueba estadística"
   ]
  },
  {
   "cell_type": "code",
   "execution_count": 20,
   "metadata": {},
   "outputs": [],
   "source": [
    "# Lista de métricas\n",
    "metricas_sm = [\"engagement_rate\", \"click_through_rate\", \"cost_per_click\"]"
   ]
  },
  {
   "cell_type": "code",
   "execution_count": 21,
   "metadata": {},
   "outputs": [],
   "source": [
    "# Dividimos los grupos de anuncios\n",
    "grupos_sm = df_sm['ad_id'].unique()"
   ]
  },
  {
   "cell_type": "markdown",
   "metadata": {},
   "source": [
    "**Prueba de normalidad (Shapiro-Wilk)**"
   ]
  },
  {
   "cell_type": "code",
   "execution_count": 22,
   "metadata": {},
   "outputs": [
    {
     "name": "stdout",
     "output_type": "stream",
     "text": [
      "Estamos analizando la variable ENGAGEMENT_RATE para el grupo de anuncios AD1\n",
      "Para la columna engagement_rate, los datos no siguen una distribución normal según el test de Shapiro-Wilk.\n",
      "\n",
      "-------------\n",
      "\n",
      "Estamos analizando la variable ENGAGEMENT_RATE para el grupo de anuncios AD2\n",
      "Para la columna engagement_rate, los datos no siguen una distribución normal según el test de Shapiro-Wilk.\n",
      "\n",
      "-------------\n",
      "\n",
      "Estamos analizando la variable CLICK_THROUGH_RATE para el grupo de anuncios AD1\n",
      "Para la columna click_through_rate, los datos no siguen una distribución normal según el test de Shapiro-Wilk.\n",
      "\n",
      "-------------\n",
      "\n",
      "Estamos analizando la variable CLICK_THROUGH_RATE para el grupo de anuncios AD2\n",
      "Para la columna click_through_rate, los datos siguen una distribución normal según el test de Shapiro-Wilk.\n",
      "\n",
      "-------------\n",
      "\n",
      "Estamos analizando la variable COST_PER_CLICK para el grupo de anuncios AD1\n",
      "Para la columna cost_per_click, los datos no siguen una distribución normal según el test de Shapiro-Wilk.\n",
      "\n",
      "-------------\n",
      "\n",
      "Estamos analizando la variable COST_PER_CLICK para el grupo de anuncios AD2\n",
      "Para la columna cost_per_click, los datos no siguen una distribución normal según el test de Shapiro-Wilk.\n",
      "\n",
      "-------------\n",
      "\n"
     ]
    }
   ],
   "source": [
    "# Evaluamos normalidad para cada grupo\n",
    "for metrica in metricas_sm: \n",
    "    for grupo in grupos_sm: \n",
    "        print(f\"Estamos analizando la variable {metrica.upper()} para el grupo de anuncios {grupo.upper()}\")\n",
    "        df_normalidad = df_sm[df_sm[\"ad_id\"] == grupo]\n",
    "        test_asunciones = sa.Asunciones(dataframe = df_normalidad, columna_numerica = metrica)\n",
    "        test_asunciones.identificar_normalidad_analitica() # Comprobamos la asunción de normalidad, como tenemos menos de 50 datos por grupo, usaremos un shapiro test.\n",
    "        print(\"\\n-------------\\n\")"
   ]
  },
  {
   "cell_type": "markdown",
   "metadata": {},
   "source": [
    "<div style=\"background-color: #F74646; padding: 10px; border-left: 6px solid #000000; color: black; border-radius: 10px;\">\n",
    "<h5>Los principales resultados de los análisis de normalidad son:</h5>\n",
    "\n",
    "1. **ENGAGEMENT_RATE**:\n",
    "\n",
    "   - **Grupo de anuncios 1**: la variable ENGAGEMENT_RATE no sigue una distribución normal.\n",
    "\n",
    "   - **Grupo de anuncios 2**: la variable ENGAGEMENT_RATE no sigue una distribución normal.\n",
    "\n",
    "2. **CLICK_THROUGH_RATE**:\n",
    "\n",
    "   - **Grupo de anuncios 1**: la variable CLICK_THROUGH_RATE no sigue una distribución normal.\n",
    "\n",
    "   - **Grupo de anuncios 2**: la variable CLICK_THROUGH_RATE sigue una distribución normal.\n",
    "\n",
    "3. **COST_PER_CLICK**:\n",
    "\n",
    "   - **Grupo de anuncios 1**: la variable COST_PER_CLICK no sigue una distribución normal.\n",
    "\n",
    "   - **Grupo de anuncios 2**: la variable COST_PER_CLICK no sigue una distribución normal.\n",
    "\n",
    "De estos resultados podemos concluir que:\n",
    "\n",
    "1. **CLICK_THROUGH_RATE**: dado que la variable CLICK_THROUGH_RATE sigue una distribución normal en el grupo de anuncios 2 pero no en el 1, no se cumplen las asunciones de normalidad para ambos grupos. Por tanto, no sería apropiado utilizar una prueba paramétrica.\n",
    "\n",
    "2. **ENGAGEMENT_RATE y COST_PER_CLICK**: ambas variables no siguen una distribución normal en ninguno de los grupos de anuncios. Esto indica que las asunciones de normalidad no se cumplen y, por consiguiente, las pruebas paramétricas no serían adecuadas para analizar estas variables.\n"
   ]
  },
  {
   "cell_type": "markdown",
   "metadata": {},
   "source": [
    "-> Dado que los datos no siguen una distribución normal, elegimos una prueba no paramétrica. En concreto, Mann Whitney U"
   ]
  },
  {
   "cell_type": "code",
   "execution_count": 23,
   "metadata": {},
   "outputs": [
    {
     "name": "stdout",
     "output_type": "stream",
     "text": [
      "\n",
      "Estamos analizando la métrica ENGAGEMENT_RATE\n",
      "Estadístico del Test de Mann-Whitney U: 1199.0\n",
      "Valor p: 0.7277366196432564\n",
      "No hay evidencia suficiente para concluir que hay una diferencia significativa.\n",
      "\n",
      "Estamos analizando la métrica CLICK_THROUGH_RATE\n",
      "Estadístico del Test de Mann-Whitney U: 1482.0\n",
      "Valor p: 0.11050681166192879\n",
      "No hay evidencia suficiente para concluir que hay una diferencia significativa.\n",
      "\n",
      "Estamos analizando la métrica COST_PER_CLICK\n",
      "Estadístico del Test de Mann-Whitney U: 1390.0\n",
      "Valor p: 0.3362064160117333\n",
      "No hay evidencia suficiente para concluir que hay una diferencia significativa.\n"
     ]
    }
   ],
   "source": [
    "# Iteramos por la lista de métricas:\n",
    "for metrica in metricas_sm:\n",
    "    print(f\"\\nEstamos analizando la métrica {metrica.upper()}\")\n",
    "    no_parametricos = sa.Pruebas_no_parametricas(df_sm, metrica, \"ad_id\") # Instanciamos la clase de los test no parámetricos.\n",
    "    datos_categorias = no_parametricos.generar_grupos() # Generamos los datos para cada una de las categorías.\n",
    "    no_parametricos.test_manwhitneyu(datos_categorias) # Llamamos al método para calcular el test de Mann Whitney U."
   ]
  },
  {
   "cell_type": "markdown",
   "metadata": {},
   "source": [
    "## 2.6 Conclusiones"
   ]
  },
  {
   "cell_type": "markdown",
   "metadata": {},
   "source": [
    "<div style=\"background-color: #F74646; padding: 10px; border-left: 6px solid #000000; color: black; border-radius: 10px;\">\n",
    "<h5>Interpretación de los resultados</h5>\n",
    "\n",
    "- **ENGAGEMENT_RATE** --> p value: 0.728\n",
    "\n",
    "    El p value es > 0.05, lo que indica que no hay evidencia suficiente para concluir que hay una diferencia significativa en la métrica de ENGAGEMENT_RATE entre ambos grupos de anuncios. Esto significa que el cambio implementado no ha tenido un impacto significativo. Revisando el gráfico, observamos que los valores son prácticamente idénticos.\n",
    "\n",
    "- **CLICK_THROUGH_RATE** --> p value: 0.111\n",
    "\n",
    "    El p value también es > 0.05. Estos resultados sugieren que el cambio implementado no ha tenido un impacto significativo en la tasa de clics. Además, observamos que dicha tasa ha disminuido, no siendo nada alentador.  \n",
    "\n",
    "- **COST_PER_CLICK** --> p value: 0.336\n",
    "\n",
    "    El p value es > 0.05, indicando que tampoco hay evidencia suficiente para concluir que hay una diferencia significativa en el coste por clic entre los dos grupos. Esto sugiere que el cambio implementado no ha tenido un impacto significativo. \n",
    "\n",
    "En base a los resultados, podemos confirmar que el grupo de anuncios 2 no ha tenido un impacto significativo respecto al grupo de anuncios 1. Por ello, podemos rechazar la hipótesis alternativa y aceptar así la hipótesis nula.\n",
    "\n",
    "</div>"
   ]
  },
  {
   "cell_type": "markdown",
   "metadata": {},
   "source": [
    "# 3. LP data"
   ]
  },
  {
   "cell_type": "markdown",
   "metadata": {},
   "source": [
    "## 3.1. Lectura de los datos"
   ]
  },
  {
   "cell_type": "code",
   "execution_count": 24,
   "metadata": {},
   "outputs": [
    {
     "data": {
      "text/html": [
       "<div>\n",
       "<style scoped>\n",
       "    .dataframe tbody tr th:only-of-type {\n",
       "        vertical-align: middle;\n",
       "    }\n",
       "\n",
       "    .dataframe tbody tr th {\n",
       "        vertical-align: top;\n",
       "    }\n",
       "\n",
       "    .dataframe thead th {\n",
       "        text-align: right;\n",
       "    }\n",
       "</style>\n",
       "<table border=\"1\" class=\"dataframe\">\n",
       "  <thead>\n",
       "    <tr style=\"text-align: right;\">\n",
       "      <th></th>\n",
       "      <th>page_version</th>\n",
       "      <th>session_duration</th>\n",
       "      <th>bounce_rate</th>\n",
       "      <th>conversion_rate</th>\n",
       "    </tr>\n",
       "  </thead>\n",
       "  <tbody>\n",
       "    <tr>\n",
       "      <th>0</th>\n",
       "      <td>A</td>\n",
       "      <td>248.971125</td>\n",
       "      <td>0.225584</td>\n",
       "      <td>0.051342</td>\n",
       "    </tr>\n",
       "    <tr>\n",
       "      <th>1</th>\n",
       "      <td>A</td>\n",
       "      <td>396.194681</td>\n",
       "      <td>0.265171</td>\n",
       "      <td>0.048562</td>\n",
       "    </tr>\n",
       "    <tr>\n",
       "      <th>2</th>\n",
       "      <td>A</td>\n",
       "      <td>260.315815</td>\n",
       "      <td>0.201563</td>\n",
       "      <td>0.043753</td>\n",
       "    </tr>\n",
       "    <tr>\n",
       "      <th>3</th>\n",
       "      <td>A</td>\n",
       "      <td>271.836058</td>\n",
       "      <td>0.205943</td>\n",
       "      <td>0.070554</td>\n",
       "    </tr>\n",
       "    <tr>\n",
       "      <th>4</th>\n",
       "      <td>A</td>\n",
       "      <td>282.541563</td>\n",
       "      <td>0.242047</td>\n",
       "      <td>0.052930</td>\n",
       "    </tr>\n",
       "  </tbody>\n",
       "</table>\n",
       "</div>"
      ],
      "text/plain": [
       "  page_version  session_duration  bounce_rate  conversion_rate\n",
       "0            A        248.971125     0.225584         0.051342\n",
       "1            A        396.194681     0.265171         0.048562\n",
       "2            A        260.315815     0.201563         0.043753\n",
       "3            A        271.836058     0.205943         0.070554\n",
       "4            A        282.541563     0.242047         0.052930"
      ]
     },
     "execution_count": 24,
     "metadata": {},
     "output_type": "execute_result"
    }
   ],
   "source": [
    "df_lp = pd.read_csv('Datos/lp_data.csv')\n",
    "df_lp.head()"
   ]
  },
  {
   "cell_type": "markdown",
   "metadata": {},
   "source": [
    "## 3.2. Breve exploración de los datos"
   ]
  },
  {
   "cell_type": "code",
   "execution_count": 25,
   "metadata": {},
   "outputs": [
    {
     "name": "stdout",
     "output_type": "stream",
     "text": [
      "<class 'pandas.core.frame.DataFrame'>\n",
      "RangeIndex: 150 entries, 0 to 149\n",
      "Data columns (total 4 columns):\n",
      " #   Column            Non-Null Count  Dtype  \n",
      "---  ------            --------------  -----  \n",
      " 0   page_version      150 non-null    object \n",
      " 1   session_duration  150 non-null    float64\n",
      " 2   bounce_rate       150 non-null    float64\n",
      " 3   conversion_rate   150 non-null    float64\n",
      "dtypes: float64(3), object(1)\n",
      "memory usage: 4.8+ KB\n"
     ]
    }
   ],
   "source": [
    "df_lp.info()"
   ]
  },
  {
   "cell_type": "code",
   "execution_count": 26,
   "metadata": {},
   "outputs": [
    {
     "name": "stdout",
     "output_type": "stream",
     "text": [
      "El número de datos es 150 y el de columnas es 4\n",
      "\n",
      " ..................... \n",
      "\n",
      "Los duplicados que tenemos en el conjunto de datos son: 0\n",
      "\n",
      " ..................... \n",
      "\n",
      "Los nulos que tenemos en el conjunto de datos son:\n"
     ]
    },
    {
     "data": {
      "text/html": [
       "<div>\n",
       "<style scoped>\n",
       "    .dataframe tbody tr th:only-of-type {\n",
       "        vertical-align: middle;\n",
       "    }\n",
       "\n",
       "    .dataframe tbody tr th {\n",
       "        vertical-align: top;\n",
       "    }\n",
       "\n",
       "    .dataframe thead th {\n",
       "        text-align: right;\n",
       "    }\n",
       "</style>\n",
       "<table border=\"1\" class=\"dataframe\">\n",
       "  <thead>\n",
       "    <tr style=\"text-align: right;\">\n",
       "      <th></th>\n",
       "      <th>%_nulos</th>\n",
       "    </tr>\n",
       "  </thead>\n",
       "  <tbody>\n",
       "  </tbody>\n",
       "</table>\n",
       "</div>"
      ],
      "text/plain": [
       "Empty DataFrame\n",
       "Columns: [%_nulos]\n",
       "Index: []"
      ]
     },
     "metadata": {},
     "output_type": "display_data"
    },
    {
     "name": "stdout",
     "output_type": "stream",
     "text": [
      "\n",
      " ..................... \n",
      "\n",
      "Los tipos de las columnas son:\n"
     ]
    },
    {
     "data": {
      "text/html": [
       "<div>\n",
       "<style scoped>\n",
       "    .dataframe tbody tr th:only-of-type {\n",
       "        vertical-align: middle;\n",
       "    }\n",
       "\n",
       "    .dataframe tbody tr th {\n",
       "        vertical-align: top;\n",
       "    }\n",
       "\n",
       "    .dataframe thead th {\n",
       "        text-align: right;\n",
       "    }\n",
       "</style>\n",
       "<table border=\"1\" class=\"dataframe\">\n",
       "  <thead>\n",
       "    <tr style=\"text-align: right;\">\n",
       "      <th></th>\n",
       "      <th>tipo_dato</th>\n",
       "    </tr>\n",
       "  </thead>\n",
       "  <tbody>\n",
       "    <tr>\n",
       "      <th>page_version</th>\n",
       "      <td>object</td>\n",
       "    </tr>\n",
       "    <tr>\n",
       "      <th>session_duration</th>\n",
       "      <td>float64</td>\n",
       "    </tr>\n",
       "    <tr>\n",
       "      <th>bounce_rate</th>\n",
       "      <td>float64</td>\n",
       "    </tr>\n",
       "    <tr>\n",
       "      <th>conversion_rate</th>\n",
       "      <td>float64</td>\n",
       "    </tr>\n",
       "  </tbody>\n",
       "</table>\n",
       "</div>"
      ],
      "text/plain": [
       "                 tipo_dato\n",
       "page_version        object\n",
       "session_duration   float64\n",
       "bounce_rate        float64\n",
       "conversion_rate    float64"
      ]
     },
     "metadata": {},
     "output_type": "display_data"
    },
    {
     "name": "stdout",
     "output_type": "stream",
     "text": [
      "\n",
      " ..................... \n",
      "\n",
      "Los valores que tenemos para las columnas categóricas son: \n",
      "La columna PAGE_VERSION tiene las siguientes valore únicos:\n"
     ]
    },
    {
     "data": {
      "text/html": [
       "<div>\n",
       "<style scoped>\n",
       "    .dataframe tbody tr th:only-of-type {\n",
       "        vertical-align: middle;\n",
       "    }\n",
       "\n",
       "    .dataframe tbody tr th {\n",
       "        vertical-align: top;\n",
       "    }\n",
       "\n",
       "    .dataframe thead th {\n",
       "        text-align: right;\n",
       "    }\n",
       "</style>\n",
       "<table border=\"1\" class=\"dataframe\">\n",
       "  <thead>\n",
       "    <tr style=\"text-align: right;\">\n",
       "      <th></th>\n",
       "      <th>count</th>\n",
       "    </tr>\n",
       "    <tr>\n",
       "      <th>page_version</th>\n",
       "      <th></th>\n",
       "    </tr>\n",
       "  </thead>\n",
       "  <tbody>\n",
       "    <tr>\n",
       "      <th>A</th>\n",
       "      <td>50</td>\n",
       "    </tr>\n",
       "    <tr>\n",
       "      <th>B</th>\n",
       "      <td>50</td>\n",
       "    </tr>\n",
       "    <tr>\n",
       "      <th>C</th>\n",
       "      <td>50</td>\n",
       "    </tr>\n",
       "  </tbody>\n",
       "</table>\n",
       "</div>"
      ],
      "text/plain": [
       "              count\n",
       "page_version       \n",
       "A                50\n",
       "B                50\n",
       "C                50"
      ]
     },
     "metadata": {},
     "output_type": "display_data"
    },
    {
     "name": "stdout",
     "output_type": "stream",
     "text": [
      "\n",
      " ..................... \n",
      "\n",
      "Los principales estadísticos de las columnas categóricas para el A son: \n"
     ]
    },
    {
     "data": {
      "text/html": [
       "<div>\n",
       "<style scoped>\n",
       "    .dataframe tbody tr th:only-of-type {\n",
       "        vertical-align: middle;\n",
       "    }\n",
       "\n",
       "    .dataframe tbody tr th {\n",
       "        vertical-align: top;\n",
       "    }\n",
       "\n",
       "    .dataframe thead th {\n",
       "        text-align: right;\n",
       "    }\n",
       "</style>\n",
       "<table border=\"1\" class=\"dataframe\">\n",
       "  <thead>\n",
       "    <tr style=\"text-align: right;\">\n",
       "      <th></th>\n",
       "      <th>count</th>\n",
       "      <th>unique</th>\n",
       "      <th>top</th>\n",
       "      <th>freq</th>\n",
       "    </tr>\n",
       "  </thead>\n",
       "  <tbody>\n",
       "    <tr>\n",
       "      <th>page_version</th>\n",
       "      <td>50</td>\n",
       "      <td>1</td>\n",
       "      <td>A</td>\n",
       "      <td>50</td>\n",
       "    </tr>\n",
       "  </tbody>\n",
       "</table>\n",
       "</div>"
      ],
      "text/plain": [
       "             count unique top freq\n",
       "page_version    50      1   A   50"
      ]
     },
     "metadata": {},
     "output_type": "display_data"
    },
    {
     "name": "stdout",
     "output_type": "stream",
     "text": [
      "\n",
      " ..................... \n",
      "\n",
      "Los principales estadísticos de las columnas numéricas para el A son: \n"
     ]
    },
    {
     "data": {
      "text/html": [
       "<div>\n",
       "<style scoped>\n",
       "    .dataframe tbody tr th:only-of-type {\n",
       "        vertical-align: middle;\n",
       "    }\n",
       "\n",
       "    .dataframe tbody tr th {\n",
       "        vertical-align: top;\n",
       "    }\n",
       "\n",
       "    .dataframe thead th {\n",
       "        text-align: right;\n",
       "    }\n",
       "</style>\n",
       "<table border=\"1\" class=\"dataframe\">\n",
       "  <thead>\n",
       "    <tr style=\"text-align: right;\">\n",
       "      <th></th>\n",
       "      <th>count</th>\n",
       "      <th>mean</th>\n",
       "      <th>std</th>\n",
       "      <th>min</th>\n",
       "      <th>25%</th>\n",
       "      <th>50%</th>\n",
       "      <th>75%</th>\n",
       "      <th>max</th>\n",
       "    </tr>\n",
       "  </thead>\n",
       "  <tbody>\n",
       "    <tr>\n",
       "      <th>session_duration</th>\n",
       "      <td>50.0</td>\n",
       "      <td>307.499048</td>\n",
       "      <td>47.524589</td>\n",
       "      <td>212.228719</td>\n",
       "      <td>272.581735</td>\n",
       "      <td>303.262013</td>\n",
       "      <td>338.078873</td>\n",
       "      <td>448.973374</td>\n",
       "    </tr>\n",
       "    <tr>\n",
       "      <th>bounce_rate</th>\n",
       "      <td>50.0</td>\n",
       "      <td>0.293040</td>\n",
       "      <td>0.066788</td>\n",
       "      <td>0.201563</td>\n",
       "      <td>0.229705</td>\n",
       "      <td>0.277792</td>\n",
       "      <td>0.357802</td>\n",
       "      <td>0.396162</td>\n",
       "    </tr>\n",
       "    <tr>\n",
       "      <th>conversion_rate</th>\n",
       "      <td>50.0</td>\n",
       "      <td>0.067366</td>\n",
       "      <td>0.016247</td>\n",
       "      <td>0.040719</td>\n",
       "      <td>0.053220</td>\n",
       "      <td>0.067723</td>\n",
       "      <td>0.078152</td>\n",
       "      <td>0.098334</td>\n",
       "    </tr>\n",
       "  </tbody>\n",
       "</table>\n",
       "</div>"
      ],
      "text/plain": [
       "                  count        mean        std         min         25%  \\\n",
       "session_duration   50.0  307.499048  47.524589  212.228719  272.581735   \n",
       "bounce_rate        50.0    0.293040   0.066788    0.201563    0.229705   \n",
       "conversion_rate    50.0    0.067366   0.016247    0.040719    0.053220   \n",
       "\n",
       "                         50%         75%         max  \n",
       "session_duration  303.262013  338.078873  448.973374  \n",
       "bounce_rate         0.277792    0.357802    0.396162  \n",
       "conversion_rate     0.067723    0.078152    0.098334  "
      ]
     },
     "metadata": {},
     "output_type": "display_data"
    },
    {
     "name": "stdout",
     "output_type": "stream",
     "text": [
      "\n",
      " ..................... \n",
      "\n",
      "Los principales estadísticos de las columnas categóricas para el B son: \n"
     ]
    },
    {
     "data": {
      "text/html": [
       "<div>\n",
       "<style scoped>\n",
       "    .dataframe tbody tr th:only-of-type {\n",
       "        vertical-align: middle;\n",
       "    }\n",
       "\n",
       "    .dataframe tbody tr th {\n",
       "        vertical-align: top;\n",
       "    }\n",
       "\n",
       "    .dataframe thead th {\n",
       "        text-align: right;\n",
       "    }\n",
       "</style>\n",
       "<table border=\"1\" class=\"dataframe\">\n",
       "  <thead>\n",
       "    <tr style=\"text-align: right;\">\n",
       "      <th></th>\n",
       "      <th>count</th>\n",
       "      <th>unique</th>\n",
       "      <th>top</th>\n",
       "      <th>freq</th>\n",
       "    </tr>\n",
       "  </thead>\n",
       "  <tbody>\n",
       "    <tr>\n",
       "      <th>page_version</th>\n",
       "      <td>50</td>\n",
       "      <td>1</td>\n",
       "      <td>B</td>\n",
       "      <td>50</td>\n",
       "    </tr>\n",
       "  </tbody>\n",
       "</table>\n",
       "</div>"
      ],
      "text/plain": [
       "             count unique top freq\n",
       "page_version    50      1   B   50"
      ]
     },
     "metadata": {},
     "output_type": "display_data"
    },
    {
     "name": "stdout",
     "output_type": "stream",
     "text": [
      "\n",
      " ..................... \n",
      "\n",
      "Los principales estadísticos de las columnas numéricas para el B son: \n"
     ]
    },
    {
     "data": {
      "text/html": [
       "<div>\n",
       "<style scoped>\n",
       "    .dataframe tbody tr th:only-of-type {\n",
       "        vertical-align: middle;\n",
       "    }\n",
       "\n",
       "    .dataframe tbody tr th {\n",
       "        vertical-align: top;\n",
       "    }\n",
       "\n",
       "    .dataframe thead th {\n",
       "        text-align: right;\n",
       "    }\n",
       "</style>\n",
       "<table border=\"1\" class=\"dataframe\">\n",
       "  <thead>\n",
       "    <tr style=\"text-align: right;\">\n",
       "      <th></th>\n",
       "      <th>count</th>\n",
       "      <th>mean</th>\n",
       "      <th>std</th>\n",
       "      <th>min</th>\n",
       "      <th>25%</th>\n",
       "      <th>50%</th>\n",
       "      <th>75%</th>\n",
       "      <th>max</th>\n",
       "    </tr>\n",
       "  </thead>\n",
       "  <tbody>\n",
       "    <tr>\n",
       "      <th>session_duration</th>\n",
       "      <td>50.0</td>\n",
       "      <td>321.311284</td>\n",
       "      <td>42.244470</td>\n",
       "      <td>215.154009</td>\n",
       "      <td>295.322289</td>\n",
       "      <td>323.192158</td>\n",
       "      <td>356.565564</td>\n",
       "      <td>398.928151</td>\n",
       "    </tr>\n",
       "    <tr>\n",
       "      <th>bounce_rate</th>\n",
       "      <td>50.0</td>\n",
       "      <td>0.271444</td>\n",
       "      <td>0.041371</td>\n",
       "      <td>0.202644</td>\n",
       "      <td>0.230954</td>\n",
       "      <td>0.272316</td>\n",
       "      <td>0.300412</td>\n",
       "      <td>0.347637</td>\n",
       "    </tr>\n",
       "    <tr>\n",
       "      <th>conversion_rate</th>\n",
       "      <td>50.0</td>\n",
       "      <td>0.085557</td>\n",
       "      <td>0.020910</td>\n",
       "      <td>0.050522</td>\n",
       "      <td>0.070043</td>\n",
       "      <td>0.085787</td>\n",
       "      <td>0.103646</td>\n",
       "      <td>0.118518</td>\n",
       "    </tr>\n",
       "  </tbody>\n",
       "</table>\n",
       "</div>"
      ],
      "text/plain": [
       "                  count        mean        std         min         25%  \\\n",
       "session_duration   50.0  321.311284  42.244470  215.154009  295.322289   \n",
       "bounce_rate        50.0    0.271444   0.041371    0.202644    0.230954   \n",
       "conversion_rate    50.0    0.085557   0.020910    0.050522    0.070043   \n",
       "\n",
       "                         50%         75%         max  \n",
       "session_duration  323.192158  356.565564  398.928151  \n",
       "bounce_rate         0.272316    0.300412    0.347637  \n",
       "conversion_rate     0.085787    0.103646    0.118518  "
      ]
     },
     "metadata": {},
     "output_type": "display_data"
    },
    {
     "name": "stdout",
     "output_type": "stream",
     "text": [
      "\n",
      " ..................... \n",
      "\n",
      "Los principales estadísticos de las columnas categóricas para el C son: \n"
     ]
    },
    {
     "data": {
      "text/html": [
       "<div>\n",
       "<style scoped>\n",
       "    .dataframe tbody tr th:only-of-type {\n",
       "        vertical-align: middle;\n",
       "    }\n",
       "\n",
       "    .dataframe tbody tr th {\n",
       "        vertical-align: top;\n",
       "    }\n",
       "\n",
       "    .dataframe thead th {\n",
       "        text-align: right;\n",
       "    }\n",
       "</style>\n",
       "<table border=\"1\" class=\"dataframe\">\n",
       "  <thead>\n",
       "    <tr style=\"text-align: right;\">\n",
       "      <th></th>\n",
       "      <th>count</th>\n",
       "      <th>unique</th>\n",
       "      <th>top</th>\n",
       "      <th>freq</th>\n",
       "    </tr>\n",
       "  </thead>\n",
       "  <tbody>\n",
       "    <tr>\n",
       "      <th>page_version</th>\n",
       "      <td>50</td>\n",
       "      <td>1</td>\n",
       "      <td>C</td>\n",
       "      <td>50</td>\n",
       "    </tr>\n",
       "  </tbody>\n",
       "</table>\n",
       "</div>"
      ],
      "text/plain": [
       "             count unique top freq\n",
       "page_version    50      1   C   50"
      ]
     },
     "metadata": {},
     "output_type": "display_data"
    },
    {
     "name": "stdout",
     "output_type": "stream",
     "text": [
      "\n",
      " ..................... \n",
      "\n",
      "Los principales estadísticos de las columnas numéricas para el C son: \n"
     ]
    },
    {
     "data": {
      "text/html": [
       "<div>\n",
       "<style scoped>\n",
       "    .dataframe tbody tr th:only-of-type {\n",
       "        vertical-align: middle;\n",
       "    }\n",
       "\n",
       "    .dataframe tbody tr th {\n",
       "        vertical-align: top;\n",
       "    }\n",
       "\n",
       "    .dataframe thead th {\n",
       "        text-align: right;\n",
       "    }\n",
       "</style>\n",
       "<table border=\"1\" class=\"dataframe\">\n",
       "  <thead>\n",
       "    <tr style=\"text-align: right;\">\n",
       "      <th></th>\n",
       "      <th>count</th>\n",
       "      <th>mean</th>\n",
       "      <th>std</th>\n",
       "      <th>min</th>\n",
       "      <th>25%</th>\n",
       "      <th>50%</th>\n",
       "      <th>75%</th>\n",
       "      <th>max</th>\n",
       "    </tr>\n",
       "  </thead>\n",
       "  <tbody>\n",
       "    <tr>\n",
       "      <th>session_duration</th>\n",
       "      <td>50.0</td>\n",
       "      <td>295.087606</td>\n",
       "      <td>45.491190</td>\n",
       "      <td>200.594480</td>\n",
       "      <td>259.740122</td>\n",
       "      <td>303.507328</td>\n",
       "      <td>320.578653</td>\n",
       "      <td>383.649393</td>\n",
       "    </tr>\n",
       "    <tr>\n",
       "      <th>bounce_rate</th>\n",
       "      <td>50.0</td>\n",
       "      <td>0.293149</td>\n",
       "      <td>0.053408</td>\n",
       "      <td>0.182639</td>\n",
       "      <td>0.258497</td>\n",
       "      <td>0.285661</td>\n",
       "      <td>0.345812</td>\n",
       "      <td>0.376734</td>\n",
       "    </tr>\n",
       "    <tr>\n",
       "      <th>conversion_rate</th>\n",
       "      <td>50.0</td>\n",
       "      <td>0.067028</td>\n",
       "      <td>0.016129</td>\n",
       "      <td>0.034136</td>\n",
       "      <td>0.057354</td>\n",
       "      <td>0.068775</td>\n",
       "      <td>0.080341</td>\n",
       "      <td>0.088920</td>\n",
       "    </tr>\n",
       "  </tbody>\n",
       "</table>\n",
       "</div>"
      ],
      "text/plain": [
       "                  count        mean        std         min         25%  \\\n",
       "session_duration   50.0  295.087606  45.491190  200.594480  259.740122   \n",
       "bounce_rate        50.0    0.293149   0.053408    0.182639    0.258497   \n",
       "conversion_rate    50.0    0.067028   0.016129    0.034136    0.057354   \n",
       "\n",
       "                         50%         75%         max  \n",
       "session_duration  303.507328  320.578653  383.649393  \n",
       "bounce_rate         0.285661    0.345812    0.376734  \n",
       "conversion_rate     0.068775    0.080341    0.088920  "
      ]
     },
     "metadata": {},
     "output_type": "display_data"
    }
   ],
   "source": [
    "sa.exploracion_dataframe(df_lp, 'page_version')"
   ]
  },
  {
   "cell_type": "markdown",
   "metadata": {},
   "source": [
    "## 3.3. Visualización"
   ]
  },
  {
   "cell_type": "code",
   "execution_count": 27,
   "metadata": {},
   "outputs": [
    {
     "data": {
      "image/png": "[encoded data removed]",
      "text/plain": [
       "<Figure size 2000x500 with 3 Axes>"
      ]
     },
     "metadata": {},
     "output_type": "display_data"
    }
   ],
   "source": [
    "fig, axes = plt.subplots(nrows=1, ncols=3, figsize=(20, 5)) # Creamos subgráficos.\n",
    "columnas_graficas = [\"session_duration\", \"bounce_rate\", \"conversion_rate\"] # Creamos una lista con las variables numéricas que queremos incluir en las gráficas.\n",
    "\n",
    "for indice, columna in enumerate(columnas_graficas):\n",
    "    sns.barplot(x=\"page_version\", y=columna, data=df_lp, ax=axes[indice], palette=\"flare\") # Creamos un barplot para nuestras gráficas.\n",
    "    axes[indice].set_title(columna) # Ponemos título a las gráficas.\n",
    "\n",
    "plt.tight_layout();"
   ]
  },
  {
   "cell_type": "markdown",
   "metadata": {},
   "source": [
    "Una vez mostrada la información, observamos que la versión B de la página es la que mayor duración posee por sesión, menor tasa de rebote y un mayor tasa de conversión. Respecto a las otras dos versiones, A y C, ambos resultados son similares, mostrando diferencias en la duración de la sesión, la cual es más alta en la versión A."
   ]
  },
  {
   "cell_type": "markdown",
   "metadata": {},
   "source": [
    "## 3.4. Formulación de hipótesis"
   ]
  },
  {
   "cell_type": "markdown",
   "metadata": {},
   "source": [
    "- **Efecto en la TASA DE CONVERSIÓN entre las diferentes páginas:** el objetivo es conocer si hay diferencias significativas en la tasa de conversión entre las diferentes páginas. En este caso las hipótesis serían: \n",
    "\n",
    "    - $H0$: No hay diferencias significativas en la TASA DE CONVERSIÓN entre las diferentes páginas. \n",
    "\n",
    "    - $H1$: Hay diferencias significativas en la TASA DE CONVERSIÓN entre las diferentes páginas.  "
   ]
  },
  {
   "cell_type": "code",
   "execution_count": 28,
   "metadata": {},
   "outputs": [],
   "source": [
    "# Creamos una variable con la métrica que vamos a analizar:\n",
    "metrica_lp = \"conversion_rate\""
   ]
  },
  {
   "cell_type": "code",
   "execution_count": 29,
   "metadata": {},
   "outputs": [],
   "source": [
    "grupos_lp = df_lp[\"page_version\"].unique()"
   ]
  },
  {
   "cell_type": "markdown",
   "metadata": {},
   "source": [
    "**Prueba de normalidad (Shapiro-Wilk)**"
   ]
  },
  {
   "cell_type": "code",
   "execution_count": 30,
   "metadata": {},
   "outputs": [
    {
     "name": "stdout",
     "output_type": "stream",
     "text": [
      "Estamos analizando la variable CONVERSION_RATE para el grupo A\n",
      "Para la columna conversion_rate, los datos siguen una distribución normal según el test de Shapiro-Wilk.\n",
      "\n",
      "-------------\n",
      "\n",
      "Estamos analizando la variable CONVERSION_RATE para el grupo B\n",
      "Para la columna conversion_rate, los datos no siguen una distribución normal según el test de Shapiro-Wilk.\n",
      "\n",
      "-------------\n",
      "\n",
      "Estamos analizando la variable CONVERSION_RATE para el grupo C\n",
      "Para la columna conversion_rate, los datos no siguen una distribución normal según el test de Shapiro-Wilk.\n",
      "\n",
      "-------------\n",
      "\n"
     ]
    }
   ],
   "source": [
    "for grupo in grupos_lp: \n",
    "        print(f\"Estamos analizando la variable {metrica_lp.upper()} para el grupo {grupo.upper()}\")\n",
    "        df_normalidad = df_lp[df_lp[\"page_version\"] == grupo]\n",
    "        test_asunciones = sa.Asunciones(dataframe = df_normalidad, columna_numerica = metrica_lp)\n",
    "        test_asunciones.identificar_normalidad_analitica() # Comprobamos la asunción de normalidad, como tenemos menos de 50 datos por grupo, usaremos un shapiro test.\n",
    "        print(\"\\n-------------\\n\")"
   ]
  },
  {
   "cell_type": "markdown",
   "metadata": {},
   "source": [
    "Al no cumplir con la asunción de normalidad, optamos directamente por realizar un test no paramétrico. En concreto, al tener más de dos grupos, utilizaremos el test de Kruskal-Wallis"
   ]
  },
  {
   "cell_type": "markdown",
   "metadata": {},
   "source": [
    "## 3.5. Prueba Estadística"
   ]
  },
  {
   "cell_type": "code",
   "execution_count": 31,
   "metadata": {},
   "outputs": [
    {
     "name": "stdout",
     "output_type": "stream",
     "text": [
      "Estadístico de prueba: 23.38848211920532\n",
      "Valor p: 8.341720569259717e-06\n",
      "Hay una diferencia significativa entre los datos antes y después\n"
     ]
    }
   ],
   "source": [
    "no_parametricos = sa.Pruebas_no_parametricas(df_lp, 'conversion_rate', 'page_version') # Instanciamos la clase de los test no parámetricos.\n",
    "datos_categorias = no_parametricos.generar_grupos() # Generamos los datos para cada una de las categorías.\n",
    "no_parametricos.test_kruskal(datos_categorias) # Llamamos al método para calcular el test de Kruskal."
   ]
  },
  {
   "cell_type": "markdown",
   "metadata": {},
   "source": [
    "## 3.6. Conclusiones"
   ]
  },
  {
   "cell_type": "markdown",
   "metadata": {},
   "source": [
    "<div style=\"background-color: #F74646; padding: 10px; border-left: 6px solid #000000; color: black; border-radius: 10px;\">\n",
    "<h5>Interpretación de los resultados</h5>\n",
    "\n",
    "Tenemos un p valor < 0.05 indicando que si que hay diferencias entre las distintas versiones de las páginas. \n",
    "\n",
    "Por lo tanto, los resultados indican diferencias significativas en las diferentes versiones A, B y C.\n",
    "</div>"
   ]
  },
  {
   "cell_type": "markdown",
   "metadata": {},
   "source": [
    "--> Al emplear el test de Kruskal-Wallis y encontrar diferencias significativas, realizamos un test *POST HOC* no paramétrico. En este caso, la opción adecuada es Dunn's Test, que se usa para realizar comparaciones múltiples entre grupos tras una prueba no paramétrica. Dunn's Test nos va a permitir identificar qué versión de la página es la adecuada. "
   ]
  },
  {
   "cell_type": "code",
   "execution_count": 32,
   "metadata": {},
   "outputs": [],
   "source": [
    "# Creamos una variable para cada una de las tasas de conversión de cada una de las páginas\n",
    "conversion_rates_A = df_lp.loc[df_lp['page_version'] == 'A', 'conversion_rate']\n",
    "conversion_rates_B = df_lp.loc[df_lp['page_version'] == 'B', 'conversion_rate']\n",
    "conversion_rates_C = df_lp.loc[df_lp['page_version'] == 'C', 'conversion_rate']"
   ]
  },
  {
   "cell_type": "code",
   "execution_count": 33,
   "metadata": {},
   "outputs": [],
   "source": [
    "# Creamos una lista de datos agrupados para la prueba:\n",
    "data = [conversion_rates_A, conversion_rates_B, conversion_rates_C]"
   ]
  },
  {
   "cell_type": "code",
   "execution_count": 34,
   "metadata": {},
   "outputs": [],
   "source": [
    "# Aplicamos Dunn's Test con corrección de Bonferroni para ajustar por comparaciones múltiples\n",
    "dunn_results = sp.posthoc_dunn(data, p_adjust='bonferroni')"
   ]
  },
  {
   "cell_type": "code",
   "execution_count": 35,
   "metadata": {},
   "outputs": [
    {
     "name": "stdout",
     "output_type": "stream",
     "text": [
      "Resultados de Dunn's Test con corrección de Bonferroni:\n"
     ]
    },
    {
     "data": {
      "text/html": [
       "<div>\n",
       "<style scoped>\n",
       "    .dataframe tbody tr th:only-of-type {\n",
       "        vertical-align: middle;\n",
       "    }\n",
       "\n",
       "    .dataframe tbody tr th {\n",
       "        vertical-align: top;\n",
       "    }\n",
       "\n",
       "    .dataframe thead th {\n",
       "        text-align: right;\n",
       "    }\n",
       "</style>\n",
       "<table border=\"1\" class=\"dataframe\">\n",
       "  <thead>\n",
       "    <tr style=\"text-align: right;\">\n",
       "      <th></th>\n",
       "      <th>1</th>\n",
       "      <th>2</th>\n",
       "      <th>3</th>\n",
       "    </tr>\n",
       "  </thead>\n",
       "  <tbody>\n",
       "    <tr>\n",
       "      <th>1</th>\n",
       "      <td>1.000000</td>\n",
       "      <td>0.000055</td>\n",
       "      <td>1.000000</td>\n",
       "    </tr>\n",
       "    <tr>\n",
       "      <th>2</th>\n",
       "      <td>0.000055</td>\n",
       "      <td>1.000000</td>\n",
       "      <td>0.000133</td>\n",
       "    </tr>\n",
       "    <tr>\n",
       "      <th>3</th>\n",
       "      <td>1.000000</td>\n",
       "      <td>0.000133</td>\n",
       "      <td>1.000000</td>\n",
       "    </tr>\n",
       "  </tbody>\n",
       "</table>\n",
       "</div>"
      ],
      "text/plain": [
       "          1         2         3\n",
       "1  1.000000  0.000055  1.000000\n",
       "2  0.000055  1.000000  0.000133\n",
       "3  1.000000  0.000133  1.000000"
      ]
     },
     "execution_count": 35,
     "metadata": {},
     "output_type": "execute_result"
    }
   ],
   "source": [
    "# Mostramos los resultados de Dunn's Test\n",
    "print(\"Resultados de Dunn's Test con corrección de Bonferroni:\")\n",
    "dunn_results"
   ]
  },
  {
   "cell_type": "code",
   "execution_count": 36,
   "metadata": {},
   "outputs": [],
   "source": [
    "# Creamos una lista con los nombres de los grupos:\n",
    "nombres_grupos = ['Page A', 'Page B', 'Page C']"
   ]
  },
  {
   "cell_type": "code",
   "execution_count": 37,
   "metadata": {},
   "outputs": [],
   "source": [
    "# Definimos alpha\n",
    "alpha = 0.05"
   ]
  },
  {
   "cell_type": "code",
   "execution_count": 38,
   "metadata": {},
   "outputs": [
    {
     "name": "stdout",
     "output_type": "stream",
     "text": [
      "Hay diferencias significativas entre Page A y Page B (p = 0.0001)\n",
      "No hay diferencias significativas entre Page A y Page C (p = 1.0000)\n",
      "Hay diferencias significativas entre Page B y Page C (p = 0.0001)\n"
     ]
    }
   ],
   "source": [
    "# Iteramos a través de la matriz de Dunn's Test para verificar si hay diferencias significativas\n",
    "for i in range(len(nombres_grupos)):\n",
    "    for j in range(i + 1, len(nombres_grupos)): # Sólo verificamos pares una vez.\n",
    "        p_val = dunn_results.iloc[i, j] # Obtenemos el p-valor del par.\n",
    "        if p_val < alpha:\n",
    "            print(f\"Hay diferencias significativas entre {nombres_grupos[i]} y {nombres_grupos[j]} (p = {p_val:.4f})\")\n",
    "        else:\n",
    "            print(f\"No hay diferencias significativas entre {nombres_grupos[i]} y {nombres_grupos[j]} (p = {p_val:.4f})\")"
   ]
  },
  {
   "cell_type": "markdown",
   "metadata": {},
   "source": [
    "**Conclusión**:\n",
    "\n",
    "Hay diferencias significativas entre las ventas de la versión de la página A y la B, así como entre la versión de la página B y C. Sin embargo, no hay diferencias significativas entre la versión de la página A y C."
   ]
  }
 ],
 "metadata": {
  "kernelspec": {
   "display_name": "Python 3",
   "language": "python",
   "name": "python3"
  },
  "language_info": {
   "codemirror_mode": {
    "name": "ipython",
    "version": 3
   },
   "file_extension": ".py",
   "mimetype": "text/x-python",
   "name": "python",
   "nbconvert_exporter": "python",
   "pygments_lexer": "ipython3",
   "version": "3.12.7"
  }
 },
 "nbformat": 4,
 "nbformat_minor": 2
}
